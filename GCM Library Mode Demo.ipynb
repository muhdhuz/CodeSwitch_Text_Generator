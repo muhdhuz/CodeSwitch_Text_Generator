{
 "cells": [
  {
   "cell_type": "markdown",
   "id": "sophisticated-earthquake",
   "metadata": {},
   "source": [
    "# GCM Library Mode Demo\n",
    "\n",
    "- The Library Mode can be thought of as a light-weight wrapper around the GCM toolkit. \n",
    "- It is designed keeping in mind the need to have a way through which one can perform quick-prototyping using Python's friendly programming style.\n",
    "- It is not a standalone library in itself, and hence depends upon the GCM repository. \n",
    "\n",
    "Let's see how we can use this nifty interface for experimenting with Code-mixing!"
   ]
  },
  {
   "cell_type": "markdown",
   "id": "starting-nowhere",
   "metadata": {},
   "source": [
    "## Importing libraries and Loading the corpus"
   ]
  },
  {
   "cell_type": "code",
   "execution_count": 73,
   "id": "standing-specialist",
   "metadata": {},
   "outputs": [],
   "source": [
    "import matplotlib\n",
    "matplotlib.use('Agg')\n",
    "\n",
    "from nltk.tree import Tree\n",
    "import matplotlib.pyplot as plt"
   ]
  },
  {
   "cell_type": "code",
   "execution_count": 74,
   "id": "english-aggregate",
   "metadata": {},
   "outputs": [],
   "source": [
    "# visualizing the tree\n",
    "def draw_tree(treestring):\n",
    "    tree = Tree.fromstring(treestring)\n",
    "    tree.pretty_print()"
   ]
  },
  {
   "cell_type": "markdown",
   "id": "colonial-departure",
   "metadata": {},
   "source": [
    "We've defined the following corpus for Code-mixing. It contains 20 sentences in Hindi (a language spoken in India) and their corresponding translations in English. Note that `lang1` is the source language and `lang2` is the target language, and this is the format in which the GCM expects the input data."
   ]
  },
  {
   "cell_type": "code",
   "execution_count": 75,
   "id": "willing-applicant",
   "metadata": {},
   "outputs": [],
   "source": [
    "corpus = {\n",
    "    'lang1': \"\"\"如果 您 感到 任何 不适 ， 请 立即 联系 医生 。\n",
    "但 人们 一直 要求 降低 投票 年龄 。\n",
    "而且 ， 以 你 的 主 的 名义 ， 我们 确实 将 聚集 他们 和 魔鬼 ， 然后 我们 将 把 他们 带到 地狱 周围 ， 蹲伏 着 。\n",
    "创建 一个 接触 这条线 的 圆\n",
    "人 难道 没有 经历 过 一段 时期 ， 他 甚至 没有 被 提及 吗 ？\n",
    "该州 有 20 种 竹子 ， 其中 以 melocanna baccifera 为主 ， 占 该州 竹林 面积 的 95% 。   竹子 在 该州 被 广泛 使用\n",
    "现在 ， 还有 另 一件 事 影响 定价 ， 我们 应该 考虑一下 。\n",
    "董事会 常设 委员会 如下 ：\n",
    "当 联系人 离线 时 激活 通知\n",
    "哮喘 是 一种 影响 呼吸道 的 严重 疾病 。\n",
    "伤口 愈合 后 无法 通过 手术 切除 的 空洞 。\n",
    "这样 ， 规定 的 费用 将 被 发送 ；\n",
    "有点 可怕 ， 因为 他会 说出 这样的话 。\n",
    "为什么 你 能 对 他 有 耐心 ， 摩西 说 保持 闲暇 如果 上帝 愿意 你 会 发现 我 是 一个 重新 列出 的 人\n",
    "日 视图 的 第二 时 区\n",
    "感知 是 有 限度 的 。\n",
    "城市 地区 发展 了 一大批 服装 及 服装 加工 单位 。\n",
    "提供 对 国际 信息源 的 访问\n",
    "从 收入 来源 收到 的 存款 金额 。\n",
    "是否 应该 推迟 审判 并 在 今天 晚些时候 重审 此案 ？\"\"\",\n",
    "    'lang2': \"\"\"contact the doctor immediately if you experience any discomfort.\n",
    "But there was a constant demand that the voting age should be reduced .\n",
    "and , by thy lord , verily we shall assemble them and the devils , then we shall bring them , crouching , around hell .\n",
    "Create a circle that touches this line\n",
    "has there not come upon man a period of time when he was not a thing even mentioned ?\n",
    "it has 20 bamboo species , of which melocanna baccifera mautak is predominant and occupies 95 of the bamboo afforested land in the state . bamboo is widely used in the state\n",
    "Now , another thing affects pricing , and we should think about it .\n",
    "The Standing Committees of the Board are as follows:\n",
    "Activate notification when the contact goes offline\n",
    "Asthma is a serious disease that affects your respiratory tracts .\n",
    "A cavity which cannot be surgically removed after healing the wound .\n",
    "With this , the prescribed fee will be sent;\n",
    "It was kind of scary , because he would say such things .\n",
    "Why can you be patient with him , Moses said keep your leisure If God willing you will find me a relist of man\n",
    "the second timezone for a day view\n",
    "There is a limit to perception .\n",
    "a large number of garment and garment processing units have developed in urban areas .\n",
    "Providing access to international information sources\n",
    "The amount of deposits received from an income resource .\n",
    "Should the trial be postponed and the case be retried later today ?\"\"\"\n",
    "}"
   ]
  },
  {
   "cell_type": "markdown",
   "id": "worthy-edgar",
   "metadata": {},
   "source": [
    "The GCM toolkit works as a sequential process and it has the following three stages:\n",
    "\n",
    "![](https://drive.google.com/uc?id=1ez8VH-Gs0MSEc6TW-7k_-5grigG5EQ69)\n",
    "\n",
    "We will now see how to invoke each stage."
   ]
  },
  {
   "cell_type": "markdown",
   "id": "corresponding-cooperation",
   "metadata": {},
   "source": [
    "## I. Aligner stage\n",
    "\n",
    " - In this stage, we are interested to generate word-level alignments between the source and target language sentence pairs.\n",
    " - Currently, we support the `fast_align` aligner which works well for our use case, but you could also switch it out for your own aligner."
   ]
  },
  {
   "cell_type": "code",
   "execution_count": 76,
   "id": "every-christian",
   "metadata": {
    "scrolled": true
   },
   "outputs": [
    {
     "name": "stdout",
     "output_type": "stream",
     "text": [
      "loading fast_align..\n",
      "ARG=i\n",
      "ARG=o\n",
      "ARG=v\n",
      "INITIAL PASS \n",
      "expected target length = source length * 1.22243\n",
      "ITERATION 1\n",
      "  log_e likelihood: -5491.67\n",
      "  log_2 likelihood: -7922.8\n",
      "     cross entropy: 29.8974\n",
      "        perplexity: 1e+09\n",
      "      posterior p0: 0.0827692\n",
      " posterior al-feat: -0.311961\n",
      "       size counts: 17\n",
      "ITERATION 2\n",
      "  log_e likelihood: -2276.74\n",
      "  log_2 likelihood: -3284.64\n",
      "     cross entropy: 12.3949\n",
      "        perplexity: 5385.5\n",
      "      posterior p0: 0.113942\n",
      " posterior al-feat: -0.287999\n",
      "       size counts: 17\n",
      "ITERATION 3\n",
      "  log_e likelihood: -1411.41\n",
      "  log_2 likelihood: -2036.24\n",
      "     cross entropy: 7.68391\n",
      "        perplexity: 205.63\n",
      "      posterior p0: 0.127499\n",
      " posterior al-feat: -0.277739\n",
      "       size counts: 17\n",
      "ITERATION 4\n",
      "  log_e likelihood: -1320.36\n",
      "  log_2 likelihood: -1904.88\n",
      "     cross entropy: 7.18821\n",
      "        perplexity: 145.837\n",
      "      posterior p0: 0.129792\n",
      " posterior al-feat: -0.272101\n",
      "       size counts: 17\n",
      "ITERATION 5 (FINAL)\n",
      "  log_e likelihood: -1296.87\n",
      "  log_2 likelihood: -1870.98\n",
      "     cross entropy: 7.06031\n",
      "        perplexity: 133.464\n",
      "      posterior p0: 0\n",
      " posterior al-feat: 0\n",
      "       size counts: 17\n",
      "ARG=i\n",
      "ARG=o\n",
      "ARG=v\n",
      "ARG=r\n",
      "INITIAL PASS \n",
      "expected target length = source length * 0.847914\n",
      "ITERATION 1\n",
      "  log_e likelihood: -4704.18\n",
      "  log_2 likelihood: -6786.7\n",
      "     cross entropy: 29.8974\n",
      "        perplexity: 1e+09\n",
      "      posterior p0: 0.0684138\n",
      " posterior al-feat: -0.316583\n",
      "       size counts: 17\n",
      "ITERATION 2\n",
      "  log_e likelihood: -2117.23\n",
      "  log_2 likelihood: -3054.51\n",
      "     cross entropy: 13.456\n",
      "        perplexity: 11237.3\n",
      "      posterior p0: 0.0638632\n",
      " posterior al-feat: -0.299624\n",
      "       size counts: 17\n",
      "ITERATION 3\n",
      "  log_e likelihood: -1211.01\n",
      "  log_2 likelihood: -1747.12\n",
      "     cross entropy: 7.69658\n",
      "        perplexity: 207.445\n",
      "      posterior p0: 0.0721181\n",
      " posterior al-feat: -0.288395\n",
      "       size counts: 17\n",
      "ITERATION 4\n",
      "  log_e likelihood: -1131.24\n",
      "  log_2 likelihood: -1632.04\n",
      "     cross entropy: 7.18958\n",
      "        perplexity: 145.975\n",
      "      posterior p0: 0.0691863\n",
      " posterior al-feat: -0.285692\n",
      "       size counts: 17\n",
      "ITERATION 5 (FINAL)\n",
      "  log_e likelihood: -1116.35\n",
      "  log_2 likelihood: -1610.55\n",
      "     cross entropy: 7.09492\n",
      "        perplexity: 136.705\n",
      "      posterior p0: 0\n",
      " posterior al-feat: 0\n",
      "       size counts: 17\n",
      "\n",
      "word level alignments generated...\n"
     ]
    }
   ],
   "source": [
    "from gcm.aligners import fast_align\n",
    "\n",
    "# code to generate alignments using fast_align\n",
    "aligns = fast_align.gen_aligns(corpus)"
   ]
  },
  {
   "cell_type": "code",
   "execution_count": 77,
   "id": "together-nigeria",
   "metadata": {
    "scrolled": true
   },
   "outputs": [
    {
     "data": {
      "text/plain": [
       "['0-5 1-2 1-3 1-4 1-6 1-7 1-8 2-2 3-2 4-2 10-9',\n",
       " '0-0 1-0 2-0 3-0 4-0 5-0 6-0 7-13',\n",
       " '1-0 8-7 9-7 10-1 11-1 12-1 13-1 14-1 15-1 28-25',\n",
       " '0-0 0-2 1-1 2-0 3-0 4-1 5-0',\n",
       " '0-5 1-2 2-0 2-1 2-2 2-3 2-4 3-2 4-2 5-2 6-2 7-15 14-18',\n",
       " '0-8 0-9 0-10 0-12 0-23 1-11 2-3 3-3 4-3 5-0 7-5 11-6 16-7 18-24 20-17',\n",
       " '0-1 1-0 6-4 8-8 9-6 9-8 10-7 12-13',\n",
       " '0-1 0-2 1-1 2-1 3-1 4-1',\n",
       " '0-0 0-1 0-2 1-0 2-0 3-3',\n",
       " '0-0 1-1 2-0 3-6 5-2 8-10',\n",
       " '0-0 0-1 1-0 2-0 3-0 4-0 5-0 6-0 7-2 9-11',\n",
       " '0-0 3-1 5-2 6-3',\n",
       " '0-0 1-0 2-5 7-12',\n",
       " '1-0 4-23 5-20 7-7 8-2 9-2 10-2 11-2 12-2 13-2 14-2 15-2 16-2 17-2 18-2 19-11 23-17',\n",
       " '0-1 0-2 0-3 1-1 2-4 3-1 4-0 5-1',\n",
       " '0-0 1-1 2-1 3-0 4-4 5-6',\n",
       " '0-4 1-4 2-4 3-4 4-4 5-4 6-4 7-4 8-4 9-4 10-14',\n",
       " '0-0 0-1 4-2',\n",
       " '0-1 1-1 2-1 3-1 7-9',\n",
       " '0-2 0-3 0-4 1-5 5-1 10-12']"
      ]
     },
     "execution_count": 77,
     "metadata": {},
     "output_type": "execute_result"
    }
   ],
   "source": [
    "# generated alignments\n",
    "aligns"
   ]
  },
  {
   "cell_type": "markdown",
   "id": "composite-module",
   "metadata": {},
   "source": [
    "- Since `fast_align` is a statistical aligner, the quality of alignments greatly depend upon the size of input corpus. In the above case we've only taken 20 sentences each so the alignments won't be as good. \n",
    "- Hence, it's recommended that you have atleast 1k sentences (for both the languages) in your corpus for better alignments. The bigger the better.\n",
    "- The following is the alignments for the same sentences as above but that were generated when the corpus was quite big. We'll be using these going forward, but feel free to compare them with the above alignments and check the difference in quality of CM generation."
   ]
  },
  {
   "cell_type": "code",
   "execution_count": 78,
   "id": "duplicate-infection",
   "metadata": {
    "scrolled": true
   },
   "outputs": [],
   "source": [
    "alignments_generated_bigger_corpus = ['0-4 1-5 2-6 3-7 4-8 7-3 8-0 9-2 9-1',\n",
    "'0-0 2-4 3-5 4-12 5-8 6-9',\n",
    "'0-0 2-2 9-7 10-8 11-9 13-10 15-13 23-24',\n",
    "'0-0 1-1 2-4 3-6 5-2',\n",
    "'0-5 2-2 6-7 8-11 9-16 10-13 12-17',\n",
    "'0-23 3-4 4-3 15-18 15-19 16-20 19-24 23-27 24-28',\n",
    "'0-0 5-3 6-4 7-5 9-8 10-9 11-10 11-11 11-12',\n",
    "'0-5 1-1 2-2 3-8',\n",
    "'0-2 1-4 2-6 4-0 5-1',\n",
    "'0-0 1-1 2-2 3-6 4-8 4-9 6-3 7-4',\n",
    "'0-10 1-8 3-3 6-6 8-1',\n",
    "'0-1 2-4 4-5 5-6 7-8',\n",
    "'1-4 3-6 4-7 5-9 6-10 6-11',\n",
    "'0-0 1-2 2-1 4-6 6-4 8-8 9-9 10-10 11-12 12-13 13-14 14-15 15-16 17-18 18-19 20-20 24-23',\n",
    "'0-5 1-6 3-1 4-2 5-2',\n",
    "'0-5 1-1 3-3',\n",
    "'0-12 1-13 2-10 5-4 6-5 7-6 8-7 9-8',\n",
    "'0-0 2-3 3-4 3-5',\n",
    "'0-5 1-7 2-5 3-4 5-3 6-1',\n",
    "'0-1 1-1 2-4 3-2 4-5 6-11 7-10 8-9 9-7',]"
   ]
  },
  {
   "cell_type": "code",
   "execution_count": 79,
   "id": "7d244f15",
   "metadata": {},
   "outputs": [
    {
     "name": "stderr",
     "output_type": "stream",
     "text": [
      "/home/weihua/anaconda3/envs/torchserve_environment/envs/gcm/lib/python3.7/site-packages/spacy/util.py:910: UserWarning: [W095] Model 'en_core_web_md' (3.4.1) was trained with spaCy v3.4.0 and may not be 100% compatible with the current version (3.7.1). If you see errors or degraded performance, download a newer compatible model or retrain your custom model with the current spaCy version. For more details and available updates, run: python -m spacy validate\n",
      "  warnings.warn(warn_msg)\n"
     ]
    }
   ],
   "source": [
    "import spacy\n",
    "nlp = spacy.load(\"en_core_web_md\")\n",
    "text = corpus['lang2'].split('\\n')\n",
    "Lable_No_Replacement=['QUANTITY','ORDINAL','CARDINAL','PERCENT','MONEY','DATE','TIME']\n",
    "#text = ['Trump is the President of the United States.']\n",
    "Name_Entity=[]\n",
    "for l in text:\n",
    "    doc = nlp(l)\n",
    "    tmp_list=[]\n",
    "    for ent in doc.ents:\n",
    "        if ent.label_ not in Lable_No_Replacement:\n",
    "            tmp_list.append(ent.text)\n",
    "    Name_Entity.append(tmp_list)"
   ]
  },
  {
   "cell_type": "code",
   "execution_count": 80,
   "id": "95be6ed0",
   "metadata": {},
   "outputs": [
    {
     "data": {
      "text/plain": [
       "[[],\n",
       " [],\n",
       " [],\n",
       " [],\n",
       " [],\n",
       " ['melocanna baccifera'],\n",
       " [],\n",
       " ['The Standing Committees of the Board'],\n",
       " [],\n",
       " [],\n",
       " [],\n",
       " [],\n",
       " [],\n",
       " ['Moses'],\n",
       " [],\n",
       " [],\n",
       " [],\n",
       " [],\n",
       " [],\n",
       " []]"
      ]
     },
     "execution_count": 80,
     "metadata": {},
     "output_type": "execute_result"
    }
   ],
   "source": [
    "Name_Entity"
   ]
  },
  {
   "cell_type": "code",
   "execution_count": 81,
   "id": "a1ebdfde",
   "metadata": {},
   "outputs": [],
   "source": [
    "##Get the translation of name entity from the Internet and use the same tokenization tool to complete tokenization.\n",
    "Name_Entity_Translation=[[],\n",
    " [],\n",
    " [],\n",
    " [],\n",
    " [],\n",
    " ['melocanna baccifera'],\n",
    " [],\n",
    " ['董事会 常设 委员会'],\n",
    " [],\n",
    " [],\n",
    " [],\n",
    " [],\n",
    " [],\n",
    " ['摩西'],\n",
    " [],\n",
    " [],\n",
    " [],\n",
    " [],\n",
    " [],\n",
    " []]"
   ]
  },
  {
   "cell_type": "code",
   "execution_count": 82,
   "id": "da75d299",
   "metadata": {},
   "outputs": [],
   "source": [
    "source_sentences_after_replacement=[]\n",
    "for name, name_trans, source_sen, target_sen in zip(Name_Entity, Name_Entity_Translation, corpus['lang2'].split('\\n'), corpus['lang1'].split('\\n')):\n",
    "    if name !=[]:\n",
    "        for entity, entity_trans in zip(name, name_trans):\n",
    "            if entity_trans in target_sen:\n",
    "                source_sen=source_sen.replace(entity, entity_trans)\n",
    "    source_sentences_after_replacement.append(source_sen)\n",
    "corpus['lang2']= \"\\n\".join(source_sentences_after_replacement)"
   ]
  },
  {
   "cell_type": "code",
   "execution_count": 83,
   "id": "f5087359",
   "metadata": {},
   "outputs": [
    {
     "data": {
      "text/plain": [
       "{'lang1': '如果 您 感到 任何 不适 ， 请 立即 联系 医生 。\\n但 人们 一直 要求 降低 投票 年龄 。\\n而且 ， 以 你 的 主 的 名义 ， 我们 确实 将 聚集 他们 和 魔鬼 ， 然后 我们 将 把 他们 带到 地狱 周围 ， 蹲伏 着 。\\n创建 一个 接触 这条线 的 圆\\n人 难道 没有 经历 过 一段 时期 ， 他 甚至 没有 被 提及 吗 ？\\n该州 有 20 种 竹子 ， 其中 以 melocanna baccifera 为主 ， 占 该州 竹林 面积 的 95% 。   竹子 在 该州 被 广泛 使用\\n现在 ， 还有 另 一件 事 影响 定价 ， 我们 应该 考虑一下 。\\n董事会 常设 委员会 如下 ：\\n当 联系人 离线 时 激活 通知\\n哮喘 是 一种 影响 呼吸道 的 严重 疾病 。\\n伤口 愈合 后 无法 通过 手术 切除 的 空洞 。\\n这样 ， 规定 的 费用 将 被 发送 ；\\n有点 可怕 ， 因为 他会 说出 这样的话 。\\n为什么 你 能 对 他 有 耐心 ， 摩西 说 保持 闲暇 如果 上帝 愿意 你 会 发现 我 是 一个 重新 列出 的 人\\n日 视图 的 第二 时 区\\n感知 是 有 限度 的 。\\n城市 地区 发展 了 一大批 服装 及 服装 加工 单位 。\\n提供 对 国际 信息源 的 访问\\n从 收入 来源 收到 的 存款 金额 。\\n是否 应该 推迟 审判 并 在 今天 晚些时候 重审 此案 ？',\n",
       " 'lang2': 'contact the doctor immediately if you experience any discomfort.\\nBut there was a constant demand that the voting age should be reduced .\\nand , by thy lord , verily we shall assemble them and the devils , then we shall bring them , crouching , around hell .\\nCreate a circle that touches this line\\nhas there not come upon man a period of time when he was not a thing even mentioned ?\\nit has 20 bamboo species , of which melocanna baccifera mautak is predominant and occupies 95 of the bamboo afforested land in the state . bamboo is widely used in the state\\nNow , another thing affects pricing , and we should think about it .\\n董事会 常设 委员会 are as follows:\\nActivate notification when the contact goes offline\\nAsthma is a serious disease that affects your respiratory tracts .\\nA cavity which cannot be surgically removed after healing the wound .\\nWith this , the prescribed fee will be sent;\\nIt was kind of scary , because he would say such things .\\nWhy can you be patient with him , 摩西 said keep your leisure If God willing you will find me a relist of man\\nthe second timezone for a day view\\nThere is a limit to perception .\\na large number of garment and garment processing units have developed in urban areas .\\nProviding access to international information sources\\nThe amount of deposits received from an income resource .\\nShould the trial be postponed and the case be retried later today ?'}"
      ]
     },
     "execution_count": 83,
     "metadata": {},
     "output_type": "execute_result"
    }
   ],
   "source": [
    "corpus"
   ]
  },
  {
   "cell_type": "markdown",
   "id": "short-vocabulary",
   "metadata": {},
   "source": [
    "## II. Pre-GCM stage\n",
    "\n",
    "- This stage is responsible for collecting input sentences, alignments, parse trees etc. and packaging them into a format that GCM can work with.\n",
    "\n",
    "### Generating Parse Trees\n",
    "\n",
    "- In order to work with GCM, we need to provide parse tree of one of the input languages. \n",
    "- We currently support two parsers: `benepar` (Berkeley Neural Parser) and `stparser` (Stanford Parser)."
   ]
  },
  {
   "cell_type": "code",
   "execution_count": 84,
   "id": "usual-arrangement",
   "metadata": {
    "scrolled": true
   },
   "outputs": [
    {
     "name": "stdout",
     "output_type": "stream",
     "text": [
      "Loading benepar...\n",
      "parsing sentences...\n"
     ]
    }
   ],
   "source": [
    "from gcm.parsers import benepar, stparser\n",
    "\n",
    "# code to use benepar to generate parse trees from the corpus\n",
    "pt_benepar = benepar.parse(corpus['lang2'])"
   ]
  },
  {
   "cell_type": "code",
   "execution_count": 85,
   "id": "fatal-sacramento",
   "metadata": {},
   "outputs": [
    {
     "name": "stdout",
     "output_type": "stream",
     "text": [
      "Launching stanford parser server...\n",
      "parsing sentences...\n"
     ]
    }
   ],
   "source": [
    "# code to use stanford parser to generate parse trees from the corpus\n",
    "pt_stparser = stparser.parse(corpus['lang2'])"
   ]
  },
  {
   "cell_type": "code",
   "execution_count": 86,
   "id": "saving-daily",
   "metadata": {},
   "outputs": [
    {
     "data": {
      "text/plain": [
       "'董事会 常设 委员会 are as follows:'"
      ]
     },
     "execution_count": 86,
     "metadata": {},
     "output_type": "execute_result"
    }
   ],
   "source": [
    "corpus['lang2'].split(\"\\n\")[7]"
   ]
  },
  {
   "cell_type": "code",
   "execution_count": 87,
   "id": "desirable-pointer",
   "metadata": {},
   "outputs": [
    {
     "name": "stdout",
     "output_type": "stream",
     "text": [
      "            ROOT                     \n",
      "             |                        \n",
      "             S                       \n",
      "      _______|_____________________   \n",
      "     |            VP               | \n",
      "     |        ____|___             |  \n",
      "     |       |       SBAR          | \n",
      "     |       |     ___|______      |  \n",
      "     NP      |    |         SINV   | \n",
      "  ___|___    |    |          |     |  \n",
      "NNP  NN  CD VBP   IN        VBZ    : \n",
      " |   |   |   |    |          |     |  \n",
      "董事会  常设 委员会 are   as      follows  : \n",
      "\n"
     ]
    }
   ],
   "source": [
    "# draw the parse tree generated by benepar\n",
    "draw_tree(pt_benepar[7])"
   ]
  },
  {
   "cell_type": "code",
   "execution_count": 88,
   "id": "nasty-istanbul",
   "metadata": {},
   "outputs": [
    {
     "name": "stdout",
     "output_type": "stream",
     "text": [
      "            ROOT                     \n",
      "             |                        \n",
      "            SINV                     \n",
      "      _______|_____________________   \n",
      "     |       |       SBAR          | \n",
      "     |       |     ___|______      |  \n",
      "     |       |    |          S     | \n",
      "     |       |    |          |     |  \n",
      "     NP      VP   |          VP    | \n",
      "  ___|___    |    |          |     |  \n",
      "NNP NNP NNP VBP   IN        VBZ    : \n",
      " |   |   |   |    |          |     |  \n",
      " 董会  常设  委会 are   as      follows  : \n",
      "\n"
     ]
    }
   ],
   "source": [
    "# draw the parse tree generated by stparser\n",
    "draw_tree(pt_stparser[7])"
   ]
  },
  {
   "cell_type": "markdown",
   "id": "limited-owner",
   "metadata": {},
   "source": [
    "Now that the parse trees are generated, everything is ready for the Pre-GCM stage to start its work.\n",
    "\n",
    "### Running Pre-GCM"
   ]
  },
  {
   "cell_type": "code",
   "execution_count": 89,
   "id": "revised-skill",
   "metadata": {},
   "outputs": [
    {
     "name": "stdout",
     "output_type": "stream",
     "text": [
      "setting up pre-gcm...\n",
      "running pre-gcm...\n",
      "pre_gcm: INFO: 2024-03-17 00:27:20,843: ROOT DIR: /home/weihua/CODE-MIX-GENERATE/COD2/CodeMixed-Text-Generator/CodeMixed-Text-Generator\n",
      "data/ch-to-en-input_lang1\n",
      "pre_gcm: INFO: 2024-03-17 00:27:20,847: Parsing 20 sentences\n",
      "pre_gcm: INFO: 2024-03-17 00:27:20,849: Parsing sentences: 0, 19\n",
      "len of source sents: 20 len of parse trees: 20\n",
      "pre-gcm completed..\n",
      "0\t0.0\n",
      "如果 您 感到 任何 不适 ， 请 立即 联系 医生 。\n",
      "contact the doctor immediately if you experience any discomfort.\n",
      "(ROOT (S (VP (VB contact) (NP (DT the) (NN doctor)) (ADVP (RB immediately)) (SBAR (IN if) (S (NP (PRP you)) (VP (VBP experience) (NP (DT any) (NN discomfort)))))) (. .)))\n",
      "0-4 1-5 2-6 3-7 4-8 7-3 8-0 9-2 9-1\n"
     ]
    }
   ],
   "source": [
    "from gcm.stages import pregcm, gcm\n",
    "\n",
    "# get pregcm output using parse trees generated by benepar\n",
    "pgcm_benepar = pregcm.process(corpus, alignments_generated_bigger_corpus, pt_benepar)\n",
    "print(pgcm_benepar[0])"
   ]
  },
  {
   "cell_type": "markdown",
   "id": "located-smile",
   "metadata": {},
   "source": [
    "Notice how each row of the output of Pre-GCM stage has a set of information around the input sentences.\n",
    "\n",
    "## III. GCM stage\n",
    "\n",
    "- The GCM stage is the final stage in the GCM pipeline.\n",
    "- It takes in the output of the Pre-GCM stage to generated Code-mixed sentences as output.\n",
    "- Each output CM sentence is followed by it's parse tree that can be easily visualised using libraries like `nltk`."
   ]
  },
  {
   "cell_type": "code",
   "execution_count": 90,
   "id": "ultimate-charter",
   "metadata": {},
   "outputs": [
    {
     "name": "stdout",
     "output_type": "stream",
     "text": [
      "setting up gcm...\n",
      "running gcm process...\n"
     ]
    }
   ],
   "source": [
    "# generate gcm\n",
    "gcm_benepar = gcm.gen(pgcm_benepar)"
   ]
  },
  {
   "cell_type": "code",
   "execution_count": 91,
   "id": "after-moral",
   "metadata": {
    "scrolled": true
   },
   "outputs": [
    {
     "name": "stdout",
     "output_type": "stream",
     "text": [
      "['[CM]contact the doctor immediately if you experience any discomfort\\n', '[TREE](ROOT (S_e (VP_e (VB_e contact) (NP (DT+NN_e the doctor)) (ADVP (RB_e immediately)) (SBAR (IN_e if) (S (NP (PRP_e you)) (VP (VBP_e experience) (NP (DT_e any) (NN_e discomfort))))))))\\n', '[CM]contact the doctor immediately if you experience any 不适\\n', '[TREE](ROOT (S_e (VP_e (VB_e contact) (NP (DT+NN_e the doctor)) (ADVP (RB_e immediately)) (SBAR (IN_e if) (S (NP (PRP_e you)) (VP (VBP_e experience) (NP (DT_e any) (NN_h 不适))))))))\\n', '[CM]contact the doctor immediately if you experience 任何 discomfort\\n', '[TREE](ROOT (S_e (VP_e (VB_e contact) (NP (DT+NN_e the doctor)) (ADVP (RB_e immediately)) (SBAR (IN_e if) (S (NP (PRP_e you)) (VP (VBP_e experience) (NP (DT_h 任何) (NN_e discomfort))))))))\\n', '[CM]contact the doctor immediately if you experience 任何 不适\\n', '[TREE](ROOT (S_e (VP_e (VB_e contact) (NP (DT+NN_e the doctor)) (ADVP (RB_e immediately)) (SBAR (IN_e if) (S (NP (PRP_e you)) (VP (VBP_e experience) (NP (DT_h 任何) (NN_h 不适))))))))\\n', '[CM]contact the doctor immediately if you 感到 any discomfort\\n', '[TREE](ROOT (S_e (VP_e (VB_e contact) (NP (DT+NN_e the doctor)) (ADVP (RB_e immediately)) (SBAR (IN_e if) (S (NP (PRP_e you)) (VP (VBP_h 感到) (NP (DT_e any) (NN_e discomfort))))))))\\n', '[CM]contact the doctor immediately if you 感到 any 不适\\n', '[TREE](ROOT (S_e (VP_e (VB_e contact) (NP (DT+NN_e the doctor)) (ADVP (RB_e immediately)) (SBAR (IN_e if) (S (NP (PRP_e you)) (VP (VBP_h 感到) (NP (DT_e any) (NN_h 不适))))))))\\n', '[CM]contact the doctor immediately if you 感到 任何 discomfort\\n', '[TREE](ROOT (S_e (VP_e (VB_e contact) (NP (DT+NN_e the doctor)) (ADVP (RB_e immediately)) (SBAR (IN_e if) (S (NP (PRP_e you)) (VP (VBP_h 感到) (NP (DT_h 任何) (NN_e discomfort))))))))\\n', '[CM]contact the doctor immediately if you 感到 任何 不适\\n', '[TREE](ROOT (S_e (VP_e (VB_e contact) (NP (DT+NN_e the doctor)) (ADVP (RB_e immediately)) (SBAR (IN_e if) (S (NP (PRP_e you)) (VP (VBP_h 感到) (NP (DT_h 任何) (NN_h 不适))))))))\\n', '[CM]contact the doctor immediately if 您 experience any discomfort\\n', '[TREE](ROOT (S_e (VP_e (VB_e contact) (NP (DT+NN_e the doctor)) (ADVP (RB_e immediately)) (SBAR (IN_e if) (S (NP (PRP_h 您)) (VP (VBP_e experience) (NP (DT_e any) (NN_e discomfort))))))))\\n', '[CM]contact the doctor immediately if 您 experience any 不适\\n', '[TREE](ROOT (S_e (VP_e (VB_e contact) (NP (DT+NN_e the doctor)) (ADVP (RB_e immediately)) (SBAR (IN_e if) (S (NP (PRP_h 您)) (VP (VBP_e experience) (NP (DT_e any) (NN_h 不适))))))))\\n', '[CM]contact the doctor immediately if 您 experience 任何 discomfort\\n', '[TREE](ROOT (S_e (VP_e (VB_e contact) (NP (DT+NN_e the doctor)) (ADVP (RB_e immediately)) (SBAR (IN_e if) (S (NP (PRP_h 您)) (VP (VBP_e experience) (NP (DT_h 任何) (NN_e discomfort))))))))\\n', '[CM]contact the doctor immediately if 您 experience 任何 不适\\n', '[TREE](ROOT (S_e (VP_e (VB_e contact) (NP (DT+NN_e the doctor)) (ADVP (RB_e immediately)) (SBAR (IN_e if) (S (NP (PRP_h 您)) (VP (VBP_e experience) (NP (DT_h 任何) (NN_h 不适))))))))\\n', '[CM]contact the doctor immediately 如果 you experience any discomfort\\n', '[TREE](ROOT (S_e (VP_e (VB_e contact) (NP (DT+NN_e the doctor)) (ADVP (RB_e immediately)) (SBAR (IN_h 如果) (S (NP (PRP_e you)) (VP (VBP_e experience) (NP (DT_e any) (NN_e discomfort))))))))\\n', '[CM]contact the doctor immediately 如果 you experience any 不适\\n', '[TREE](ROOT (S_e (VP_e (VB_e contact) (NP (DT+NN_e the doctor)) (ADVP (RB_e immediately)) (SBAR (IN_h 如果) (S (NP (PRP_e you)) (VP (VBP_e experience) (NP (DT_e any) (NN_h 不适))))))))\\n', '[CM]contact the doctor immediately 如果 you experience 任何 discomfort\\n', '[TREE](ROOT (S_e (VP_e (VB_e contact) (NP (DT+NN_e the doctor)) (ADVP (RB_e immediately)) (SBAR (IN_h 如果) (S (NP (PRP_e you)) (VP (VBP_e experience) (NP (DT_h 任何) (NN_e discomfort))))))))\\n', '[CM]contact the doctor immediately 如果 you experience 任何 不适\\n', '[TREE](ROOT (S_e (VP_e (VB_e contact) (NP (DT+NN_e the doctor)) (ADVP (RB_e immediately)) (SBAR (IN_h 如果) (S (NP (PRP_e you)) (VP (VBP_e experience) (NP (DT_h 任何) (NN_h 不适))))))))\\n', '[CM]contact the doctor immediately 如果 you 感到 any discomfort\\n', '[TREE](ROOT (S_e (VP_e (VB_e contact) (NP (DT+NN_e the doctor)) (ADVP (RB_e immediately)) (SBAR (IN_h 如果) (S (NP (PRP_e you)) (VP (VBP_h 感到) (NP (DT_e any) (NN_e discomfort))))))))\\n', '[CM]contact the doctor immediately 如果 you 感到 any 不适\\n', '[TREE](ROOT (S_e (VP_e (VB_e contact) (NP (DT+NN_e the doctor)) (ADVP (RB_e immediately)) (SBAR (IN_h 如果) (S (NP (PRP_e you)) (VP (VBP_h 感到) (NP (DT_e any) (NN_h 不适))))))))\\n', '[CM]contact the doctor immediately 如果 you 感到 任何 discomfort\\n', '[TREE](ROOT (S_e (VP_e (VB_e contact) (NP (DT+NN_e the doctor)) (ADVP (RB_e immediately)) (SBAR (IN_h 如果) (S (NP (PRP_e you)) (VP (VBP_h 感到) (NP (DT_h 任何) (NN_e discomfort))))))))\\n', '[CM]contact the doctor immediately 如果 you 感到 任何 不适\\n', '[TREE](ROOT (S_e (VP_e (VB_e contact) (NP (DT+NN_e the doctor)) (ADVP (RB_e immediately)) (SBAR (IN_h 如果) (S (NP (PRP_e you)) (VP (VBP_h 感到) (NP (DT_h 任何) (NN_h 不适))))))))\\n', '[CM]contact the doctor immediately 如果 您 experience any discomfort\\n', '[TREE](ROOT (S_e (VP_e (VB_e contact) (NP (DT+NN_e the doctor)) (ADVP (RB_e immediately)) (SBAR (IN_h 如果) (S (NP (PRP_h 您)) (VP (VBP_e experience) (NP (DT_e any) (NN_e discomfort))))))))\\n', '[CM]contact the doctor immediately 如果 您 experience any 不适\\n', '[TREE](ROOT (S_e (VP_e (VB_e contact) (NP (DT+NN_e the doctor)) (ADVP (RB_e immediately)) (SBAR (IN_h 如果) (S (NP (PRP_h 您)) (VP (VBP_e experience) (NP (DT_e any) (NN_h 不适))))))))\\n', '[CM]contact the doctor immediately 如果 您 experience 任何 discomfort\\n', '[TREE](ROOT (S_e (VP_e (VB_e contact) (NP (DT+NN_e the doctor)) (ADVP (RB_e immediately)) (SBAR (IN_h 如果) (S (NP (PRP_h 您)) (VP (VBP_e experience) (NP (DT_h 任何) (NN_e discomfort))))))))\\n', '[CM]contact the doctor immediately 如果 您 experience 任何 不适\\n', '[TREE](ROOT (S_e (VP_e (VB_e contact) (NP (DT+NN_e the doctor)) (ADVP (RB_e immediately)) (SBAR (IN_h 如果) (S (NP (PRP_h 您)) (VP (VBP_e experience) (NP (DT_h 任何) (NN_h 不适))))))))\\n', '[CM]contact the doctor 立即 if you experience any discomfort\\n', '[TREE](ROOT (S_e (VP_e (VB_e contact) (NP (DT+NN_e the doctor)) (ADVP (RB_h 立即)) (SBAR (IN_e if) (S (NP (PRP_e you)) (VP (VBP_e experience) (NP (DT_e any) (NN_e discomfort))))))))\\n', '[CM]contact the doctor 立即 if you experience any 不适\\n', '[TREE](ROOT (S_e (VP_e (VB_e contact) (NP (DT+NN_e the doctor)) (ADVP (RB_h 立即)) (SBAR (IN_e if) (S (NP (PRP_e you)) (VP (VBP_e experience) (NP (DT_e any) (NN_h 不适))))))))\\n', '[CM]contact the doctor 立即 if you experience 任何 discomfort\\n', '[TREE](ROOT (S_e (VP_e (VB_e contact) (NP (DT+NN_e the doctor)) (ADVP (RB_h 立即)) (SBAR (IN_e if) (S (NP (PRP_e you)) (VP (VBP_e experience) (NP (DT_h 任何) (NN_e discomfort))))))))\\n', '[CM]contact the doctor 立即 if you experience 任何 不适\\n', '[TREE](ROOT (S_e (VP_e (VB_e contact) (NP (DT+NN_e the doctor)) (ADVP (RB_h 立即)) (SBAR (IN_e if) (S (NP (PRP_e you)) (VP (VBP_e experience) (NP (DT_h 任何) (NN_h 不适))))))))\\n', '[CM]contact the doctor 立即 if you 感到 any discomfort\\n', '[TREE](ROOT (S_e (VP_e (VB_e contact) (NP (DT+NN_e the doctor)) (ADVP (RB_h 立即)) (SBAR (IN_e if) (S (NP (PRP_e you)) (VP (VBP_h 感到) (NP (DT_e any) (NN_e discomfort))))))))\\n', '[CM]contact the doctor 立即 if you 感到 any 不适\\n', '[TREE](ROOT (S_e (VP_e (VB_e contact) (NP (DT+NN_e the doctor)) (ADVP (RB_h 立即)) (SBAR (IN_e if) (S (NP (PRP_e you)) (VP (VBP_h 感到) (NP (DT_e any) (NN_h 不适))))))))\\n', '[CM]contact the doctor 立即 if you 感到 任何 discomfort\\n', '[TREE](ROOT (S_e (VP_e (VB_e contact) (NP (DT+NN_e the doctor)) (ADVP (RB_h 立即)) (SBAR (IN_e if) (S (NP (PRP_e you)) (VP (VBP_h 感到) (NP (DT_h 任何) (NN_e discomfort))))))))\\n', '[CM]contact the doctor 立即 if you 感到 任何 不适\\n', '[TREE](ROOT (S_e (VP_e (VB_e contact) (NP (DT+NN_e the doctor)) (ADVP (RB_h 立即)) (SBAR (IN_e if) (S (NP (PRP_e you)) (VP (VBP_h 感到) (NP (DT_h 任何) (NN_h 不适))))))))\\n', '[CM]contact the doctor 立即 if 您 experience any discomfort\\n', '[TREE](ROOT (S_e (VP_e (VB_e contact) (NP (DT+NN_e the doctor)) (ADVP (RB_h 立即)) (SBAR (IN_e if) (S (NP (PRP_h 您)) (VP (VBP_e experience) (NP (DT_e any) (NN_e discomfort))))))))\\n', '[CM]contact the doctor 立即 if 您 experience any 不适\\n', '[TREE](ROOT (S_e (VP_e (VB_e contact) (NP (DT+NN_e the doctor)) (ADVP (RB_h 立即)) (SBAR (IN_e if) (S (NP (PRP_h 您)) (VP (VBP_e experience) (NP (DT_e any) (NN_h 不适))))))))\\n', '[CM]contact the doctor 立即 if 您 experience 任何 discomfort\\n', '[TREE](ROOT (S_e (VP_e (VB_e contact) (NP (DT+NN_e the doctor)) (ADVP (RB_h 立即)) (SBAR (IN_e if) (S (NP (PRP_h 您)) (VP (VBP_e experience) (NP (DT_h 任何) (NN_e discomfort))))))))\\n', '[CM]contact the doctor 立即 if 您 experience 任何 不适\\n', '[TREE](ROOT (S_e (VP_e (VB_e contact) (NP (DT+NN_e the doctor)) (ADVP (RB_h 立即)) (SBAR (IN_e if) (S (NP (PRP_h 您)) (VP (VBP_e experience) (NP (DT_h 任何) (NN_h 不适))))))))\\n', '[CM]if you experience any discomfort 立即 联系 医生\\n', '[TREE](ROOT (S_e (VP_h (SBAR (IN_e if) (S (NP (PRP_e you)) (VP (VBP_e experience) (NP (DT_e any) (NN_e discomfort))))) (ADVP (RB_h 立即)) (VB_h 联系) (NP (DT+NN_h 医生)))))\\n', '[CM]if you experience any 不适 immediately 联系 医生\\n', '[TREE](ROOT (S_e (VP_h (SBAR (IN_e if) (S (NP (PRP_e you)) (VP (VBP_e experience) (NP (DT_e any) (NN_h 不适))))) (ADVP (RB_e immediately)) (VB_h 联系) (NP (DT+NN_h 医生)))))\\n', '[CM]if you experience 任何 discomfort 立即 联系 医生\\n', '[TREE](ROOT (S_e (VP_h (SBAR (IN_e if) (S (NP (PRP_e you)) (VP (VBP_e experience) (NP (DT_h 任何) (NN_e discomfort))))) (ADVP (RB_h 立即)) (VB_h 联系) (NP (DT+NN_h 医生)))))\\n', '[CM]if you experience 任何 不适 immediately 联系 医生\\n', '[TREE](ROOT (S_e (VP_h (SBAR (IN_e if) (S (NP (PRP_e you)) (VP (VBP_e experience) (NP (DT_h 任何) (NN_h 不适))))) (ADVP (RB_e immediately)) (VB_h 联系) (NP (DT+NN_h 医生)))))\\n', '[CM]if you 感到 any discomfort 立即 联系 医生\\n', '[TREE](ROOT (S_e (VP_h (SBAR (IN_e if) (S (NP (PRP_e you)) (VP (VBP_h 感到) (NP (DT_e any) (NN_e discomfort))))) (ADVP (RB_h 立即)) (VB_h 联系) (NP (DT+NN_h 医生)))))\\n', '[CM]if you 感到 any 不适 immediately 联系 医生\\n', '[TREE](ROOT (S_e (VP_h (SBAR (IN_e if) (S (NP (PRP_e you)) (VP (VBP_h 感到) (NP (DT_e any) (NN_h 不适))))) (ADVP (RB_e immediately)) (VB_h 联系) (NP (DT+NN_h 医生)))))\\n', '[CM]if you 感到 任何 discomfort 立即 联系 医生\\n', '[TREE](ROOT (S_e (VP_h (SBAR (IN_e if) (S (NP (PRP_e you)) (VP (VBP_h 感到) (NP (DT_h 任何) (NN_e discomfort))))) (ADVP (RB_h 立即)) (VB_h 联系) (NP (DT+NN_h 医生)))))\\n', '[CM]if you 感到 任何 不适 immediately 联系 医生\\n', '[TREE](ROOT (S_e (VP_h (SBAR (IN_e if) (S (NP (PRP_e you)) (VP (VBP_h 感到) (NP (DT_h 任何) (NN_h 不适))))) (ADVP (RB_e immediately)) (VB_h 联系) (NP (DT+NN_h 医生)))))\\n', '[CM]if 您 experience any discomfort 立即 联系 医生\\n', '[TREE](ROOT (S_e (VP_h (SBAR (IN_e if) (S (NP (PRP_h 您)) (VP (VBP_e experience) (NP (DT_e any) (NN_e discomfort))))) (ADVP (RB_h 立即)) (VB_h 联系) (NP (DT+NN_h 医生)))))\\n', '[CM]if 您 experience any 不适 immediately 联系 医生\\n', '[TREE](ROOT (S_e (VP_h (SBAR (IN_e if) (S (NP (PRP_h 您)) (VP (VBP_e experience) (NP (DT_e any) (NN_h 不适))))) (ADVP (RB_e immediately)) (VB_h 联系) (NP (DT+NN_h 医生)))))\\n', '[CM]if 您 experience 任何 discomfort 立即 联系 医生\\n', '[TREE](ROOT (S_e (VP_h (SBAR (IN_e if) (S (NP (PRP_h 您)) (VP (VBP_e experience) (NP (DT_h 任何) (NN_e discomfort))))) (ADVP (RB_h 立即)) (VB_h 联系) (NP (DT+NN_h 医生)))))\\n', '[CM]if 您 experience 任何 不适 immediately 联系 医生\\n', '[TREE](ROOT (S_e (VP_h (SBAR (IN_e if) (S (NP (PRP_h 您)) (VP (VBP_e experience) (NP (DT_h 任何) (NN_h 不适))))) (ADVP (RB_e immediately)) (VB_h 联系) (NP (DT+NN_h 医生)))))\\n', '[CM]如果 you experience any discomfort 立即 联系 医生\\n', '[TREE](ROOT (S_e (VP_h (SBAR (IN_h 如果) (S (NP (PRP_e you)) (VP (VBP_e experience) (NP (DT_e any) (NN_e discomfort))))) (ADVP (RB_h 立即)) (VB_h 联系) (NP (DT+NN_h 医生)))))\\n', '[CM]如果 you experience any 不适 immediately 联系 医生\\n', '[TREE](ROOT (S_e (VP_h (SBAR (IN_h 如果) (S (NP (PRP_e you)) (VP (VBP_e experience) (NP (DT_e any) (NN_h 不适))))) (ADVP (RB_e immediately)) (VB_h 联系) (NP (DT+NN_h 医生)))))\\n', '[CM]如果 you experience 任何 discomfort 立即 联系 医生\\n', '[TREE](ROOT (S_e (VP_h (SBAR (IN_h 如果) (S (NP (PRP_e you)) (VP (VBP_e experience) (NP (DT_h 任何) (NN_e discomfort))))) (ADVP (RB_h 立即)) (VB_h 联系) (NP (DT+NN_h 医生)))))\\n', '[CM]如果 you experience 任何 不适 immediately 联系 医生\\n', '[TREE](ROOT (S_e (VP_h (SBAR (IN_h 如果) (S (NP (PRP_e you)) (VP (VBP_e experience) (NP (DT_h 任何) (NN_h 不适))))) (ADVP (RB_e immediately)) (VB_h 联系) (NP (DT+NN_h 医生)))))\\n', '[CM]如果 you 感到 any discomfort 立即 联系 医生\\n', '[TREE](ROOT (S_e (VP_h (SBAR (IN_h 如果) (S (NP (PRP_e you)) (VP (VBP_h 感到) (NP (DT_e any) (NN_e discomfort))))) (ADVP (RB_h 立即)) (VB_h 联系) (NP (DT+NN_h 医生)))))\\n', '[CM]如果 you 感到 any 不适 immediately 联系 医生\\n', '[TREE](ROOT (S_e (VP_h (SBAR (IN_h 如果) (S (NP (PRP_e you)) (VP (VBP_h 感到) (NP (DT_e any) (NN_h 不适))))) (ADVP (RB_e immediately)) (VB_h 联系) (NP (DT+NN_h 医生)))))\\n', '[CM]如果 you 感到 任何 discomfort 立即 联系 医生\\n', '[TREE](ROOT (S_e (VP_h (SBAR (IN_h 如果) (S (NP (PRP_e you)) (VP (VBP_h 感到) (NP (DT_h 任何) (NN_e discomfort))))) (ADVP (RB_h 立即)) (VB_h 联系) (NP (DT+NN_h 医生)))))\\n', '[CM]如果 you 感到 任何 不适 immediately 联系 医生\\n', '[TREE](ROOT (S_e (VP_h (SBAR (IN_h 如果) (S (NP (PRP_e you)) (VP (VBP_h 感到) (NP (DT_h 任何) (NN_h 不适))))) (ADVP (RB_e immediately)) (VB_h 联系) (NP (DT+NN_h 医生)))))\\n', '[CM]如果 您 experience any discomfort 立即 联系 医生\\n', '[TREE](ROOT (S_e (VP_h (SBAR (IN_h 如果) (S (NP (PRP_h 您)) (VP (VBP_e experience) (NP (DT_e any) (NN_e discomfort))))) (ADVP (RB_h 立即)) (VB_h 联系) (NP (DT+NN_h 医生)))))\\n', '[CM]如果 您 experience any 不适 immediately 联系 医生\\n', '[TREE](ROOT (S_e (VP_h (SBAR (IN_h 如果) (S (NP (PRP_h 您)) (VP (VBP_e experience) (NP (DT_e any) (NN_h 不适))))) (ADVP (RB_e immediately)) (VB_h 联系) (NP (DT+NN_h 医生)))))\\n', '[CM]如果 您 experience 任何 discomfort 立即 联系 医生\\n', '[TREE](ROOT (S_e (VP_h (SBAR (IN_h 如果) (S (NP (PRP_h 您)) (VP (VBP_e experience) (NP (DT_h 任何) (NN_e discomfort))))) (ADVP (RB_h 立即)) (VB_h 联系) (NP (DT+NN_h 医生)))))\\n', '[CM]如果 您 experience 任何 不适 immediately 联系 医生\\n', '[TREE](ROOT (S_e (VP_h (SBAR (IN_h 如果) (S (NP (PRP_h 您)) (VP (VBP_e experience) (NP (DT_h 任何) (NN_h 不适))))) (ADVP (RB_e immediately)) (VB_h 联系) (NP (DT+NN_h 医生)))))\\n', '[CM]But there\\n', '[TREE](ROOT (S_e (CC_e But) (NP_e (EX_e there))))\\n', '[CM]has there not\\n', '[TREE](ROOT (SQ_e (VBZ_e has) (NP_e (RB_e there)) (RB_e not)))\\n', '[CM]has there 没有\\n', '[TREE](ROOT (SQ_e (VBZ_e has) (NP_e (RB_e there)) (RB_h 没有)))\\n', '[CM]man 没有 period 他 even 没有 mentioned\\n', '[TREE](ROOT (SQ_h (PP_h (NP (NN_e man))) (RB_h 没有) (NP_e (NP_h (NN_e period)) (SBAR_h (S (NP (PRP_h 他)) (VP_h (ADVP (RB_e even)) (RB_h 没有) (VBN_e mentioned)))))))\\n', '[CM]man 没有 period 他 was not a thing\\n', '[TREE](ROOT (SQ_h (PP_h (NP (NN_e man))) (RB_h 没有) (NP_e (NP_h (NN_e period)) (SBAR_h (S (NP (PRP_h 他)) (VP_e (VBD_e was) (RB_e not) (NP_e (DT_e a) (NN_e thing))))))))\\n', '[CM]man 没有 period 他 was 没有 a thing\\n', '[TREE](ROOT (SQ_h (PP_h (NP (NN_e man))) (RB_h 没有) (NP_e (NP_h (NN_e period)) (SBAR_h (S (NP (PRP_h 他)) (VP_e (VBD_e was) (RB_h 没有) (NP_e (DT_e a) (NN_e thing))))))))\\n', '[CM]man 没有 period 他 甚至 not 提及\\n', '[TREE](ROOT (SQ_h (PP_h (NP (NN_e man))) (RB_h 没有) (NP_e (NP_h (NN_e period)) (SBAR_h (S (NP (PRP_h 他)) (VP_h (ADVP (RB_h 甚至)) (RB_e not) (VBN_h 提及)))))))\\n', '[CM]man 没有 period 他 甚至 没有 mentioned\\n', '[TREE](ROOT (SQ_h (PP_h (NP (NN_e man))) (RB_h 没有) (NP_e (NP_h (NN_e period)) (SBAR_h (S (NP (PRP_h 他)) (VP_h (ADVP (RB_h 甚至)) (RB_h 没有) (VBN_e mentioned)))))))\\n', '[CM]人 not 时期 he 甚至 not 提及\\n', '[TREE](ROOT (SQ_h (PP_h (NP (NN_h 人))) (RB_e not) (NP_e (NP_h (NN_h 时期)) (SBAR_h (S (NP (PRP_e he)) (VP_h (ADVP (RB_h 甚至)) (RB_e not) (VBN_h 提及)))))))\\n', '[CM]人 not 时期 he 甚至 没有 mentioned\\n', '[TREE](ROOT (SQ_h (PP_h (NP (NN_h 人))) (RB_e not) (NP_e (NP_h (NN_h 时期)) (SBAR_h (S (NP (PRP_e he)) (VP_h (ADVP (RB_h 甚至)) (RB_h 没有) (VBN_e mentioned)))))))\\n', '[CM]it has 20 bamboo 种 . bamboo\\n', '[TREE](ROOT (S_e (NP_e (PRP_e it)) (VP_e (VBZ_e has) (CD_e 20) (NN_e bamboo) (NNS_h 种)) (._e .) (NP_e (NN_e bamboo))))\\n', '[CM]Now , another 影响 pricing\\n', '[TREE](ROOT (S_e (ADVP (RB_e Now)) (,_e ,) (S (NP_e (DT_e another)) (VP (VBZ_h 影响) (NP (NN_e pricing))))))\\n', '[CM]Now , another 影响 定价\\n', '[TREE](ROOT (S_e (ADVP (RB_e Now)) (,_e ,) (S (NP_e (DT_e another)) (VP (VBZ_h 影响) (NP (NN_h 定价))))))\\n', '[CM]Now , 事 affects pricing\\n', '[TREE](ROOT (S_e (ADVP (RB_e Now)) (,_e ,) (S (NP_h (NN_h 事)) (VP (VBZ_e affects) (NP (NN_e pricing))))))\\n', '[CM]Now , 事 affects 定价\\n', '[TREE](ROOT (S_e (ADVP (RB_e Now)) (,_e ,) (S (NP_h (NN_h 事)) (VP (VBZ_e affects) (NP (NN_h 定价))))))\\n', '[CM]Now 事 affects pricing 我们 should think about it\\n', '[TREE](ROOT (S_e (ADVP (RB_e Now)) (S (NP_h (NN_h 事)) (VP (VBZ_e affects) (NP (NN_e pricing)))) (S (NP (PRP_h 我们)) (VP (MD_e should) (VP (VB+IN+PRP_e think about it))))))\\n', '[CM]Now 事 affects pricing 我们 should 考虑一下\\n', '[TREE](ROOT (S_e (ADVP (RB_e Now)) (S (NP_h (NN_h 事)) (VP (VBZ_e affects) (NP (NN_e pricing)))) (S (NP (PRP_h 我们)) (VP (MD_e should) (VP (VB+IN+PRP_h 考虑一下))))))\\n', '[CM]Now 事 affects pricing 我们 应该 think about it\\n', '[TREE](ROOT (S_e (ADVP (RB_e Now)) (S (NP_h (NN_h 事)) (VP (VBZ_e affects) (NP (NN_e pricing)))) (S (NP (PRP_h 我们)) (VP (MD_h 应该) (VP (VB+IN+PRP_e think about it))))))\\n', '[CM]Now 事 affects pricing 我们 应该 考虑一下\\n', '[TREE](ROOT (S_e (ADVP (RB_e Now)) (S (NP_h (NN_h 事)) (VP (VBZ_e affects) (NP (NN_e pricing)))) (S (NP (PRP_h 我们)) (VP (MD_h 应该) (VP (VB+IN+PRP_h 考虑一下))))))\\n', '[CM]Now 事 affects 定价 we should 考虑一下\\n', '[TREE](ROOT (S_e (ADVP (RB_e Now)) (S (NP_h (NN_h 事)) (VP (VBZ_e affects) (NP (NN_h 定价)))) (S (NP (PRP_e we)) (VP (MD_e should) (VP (VB+IN+PRP_h 考虑一下))))))\\n', '[CM]Now 事 affects 定价 we 应该 think about it\\n', '[TREE](ROOT (S_e (ADVP (RB_e Now)) (S (NP_h (NN_h 事)) (VP (VBZ_e affects) (NP (NN_h 定价)))) (S (NP (PRP_e we)) (VP (MD_h 应该) (VP (VB+IN+PRP_e think about it))))))\\n', '[CM]Now 事 affects 定价 we 应该 考虑一下\\n', '[TREE](ROOT (S_e (ADVP (RB_e Now)) (S (NP_h (NN_h 事)) (VP (VBZ_e affects) (NP (NN_h 定价)))) (S (NP (PRP_e we)) (VP (MD_h 应该) (VP (VB+IN+PRP_h 考虑一下))))))\\n', '[CM]现在 , another 影响 pricing\\n', '[TREE](ROOT (S_e (ADVP (RB_h 现在)) (,_e ,) (S (NP_e (DT_e another)) (VP (VBZ_h 影响) (NP (NN_e pricing))))))\\n', '[CM]现在 , another 影响 定价\\n', '[TREE](ROOT (S_e (ADVP (RB_h 现在)) (,_e ,) (S (NP_e (DT_e another)) (VP (VBZ_h 影响) (NP (NN_h 定价))))))\\n', '[CM]现在 , 事 affects pricing\\n', '[TREE](ROOT (S_e (ADVP (RB_h 现在)) (,_e ,) (S (NP_h (NN_h 事)) (VP (VBZ_e affects) (NP (NN_e pricing))))))\\n', '[CM]现在 , 事 affects 定价\\n', '[TREE](ROOT (S_e (ADVP (RB_h 现在)) (,_e ,) (S (NP_h (NN_h 事)) (VP (VBZ_e affects) (NP (NN_h 定价))))))\\n', '[CM]现在 another 影响 pricing 我们 should think about it\\n', '[TREE](ROOT (S_e (ADVP (RB_h 现在)) (S (NP_e (DT_e another)) (VP (VBZ_h 影响) (NP (NN_e pricing)))) (S (NP (PRP_h 我们)) (VP (MD_e should) (VP (VB+IN+PRP_e think about it))))))\\n', '[CM]现在 another 影响 pricing 我们 should 考虑一下\\n', '[TREE](ROOT (S_e (ADVP (RB_h 现在)) (S (NP_e (DT_e another)) (VP (VBZ_h 影响) (NP (NN_e pricing)))) (S (NP (PRP_h 我们)) (VP (MD_e should) (VP (VB+IN+PRP_h 考虑一下))))))\\n', '[CM]现在 another 影响 pricing 我们 应该 think about it\\n', '[TREE](ROOT (S_e (ADVP (RB_h 现在)) (S (NP_e (DT_e another)) (VP (VBZ_h 影响) (NP (NN_e pricing)))) (S (NP (PRP_h 我们)) (VP (MD_h 应该) (VP (VB+IN+PRP_e think about it))))))\\n', '[CM]现在 another 影响 pricing 我们 应该 考虑一下\\n', '[TREE](ROOT (S_e (ADVP (RB_h 现在)) (S (NP_e (DT_e another)) (VP (VBZ_h 影响) (NP (NN_e pricing)))) (S (NP (PRP_h 我们)) (VP (MD_h 应该) (VP (VB+IN+PRP_h 考虑一下))))))\\n', '[CM]现在 another 影响 定价 we should 考虑一下\\n', '[TREE](ROOT (S_e (ADVP (RB_h 现在)) (S (NP_e (DT_e another)) (VP (VBZ_h 影响) (NP (NN_h 定价)))) (S (NP (PRP_e we)) (VP (MD_e should) (VP (VB+IN+PRP_h 考虑一下))))))\\n', '[CM]现在 another 影响 定价 we 应该 think about it\\n', '[TREE](ROOT (S_e (ADVP (RB_h 现在)) (S (NP_e (DT_e another)) (VP (VBZ_h 影响) (NP (NN_h 定价)))) (S (NP (PRP_e we)) (VP (MD_h 应该) (VP (VB+IN+PRP_e think about it))))))\\n', '[CM]现在 another 影响 定价 we 应该 考虑一下\\n', '[TREE](ROOT (S_e (ADVP (RB_h 现在)) (S (NP_e (DT_e another)) (VP (VBZ_h 影响) (NP (NN_h 定价)))) (S (NP (PRP_e we)) (VP (MD_h 应该) (VP (VB+IN+PRP_h 考虑一下))))))\\n', '[CM]Activate notification when the 离线\\n', '[TREE](ROOT (VP_e (VB_e Activate) (NP (NN_e notification)) (SBAR (WHADVP (WRB_e when)) (S (NP_e (DT_e the)) (VP_h (VP (NN_h 离线)))))))\\n', '[CM]Activate notification 当 contact goes\\n', '[TREE](ROOT (VP_e (VB_e Activate) (NP (NN_e notification)) (SBAR (WHADVP (WRB_h 当)) (S (NP_h (NN_e contact)) (VP_e (VBZ_e goes))))))\\n', '[CM]Activate notification 当 the 离线\\n', '[TREE](ROOT (VP_e (VB_e Activate) (NP (NN_e notification)) (SBAR (WHADVP (WRB_h 当)) (S (NP_e (DT_e the)) (VP_h (VP (NN_h 离线)))))))\\n', '[CM]Activate notification 当 联系人 goes\\n', '[TREE](ROOT (VP_e (VB_e Activate) (NP (NN_e notification)) (SBAR (WHADVP (WRB_h 当)) (S (NP_h (NN_h 联系人)) (VP_e (VBZ_e goes))))))\\n', '[CM]Activate 通知 when the 离线\\n', '[TREE](ROOT (VP_e (VB_e Activate) (NP (NN_h 通知)) (SBAR (WHADVP (WRB_e when)) (S (NP_e (DT_e the)) (VP_h (VP (NN_h 离线)))))))\\n', '[CM]当 contact goes 激活 notification\\n', '[TREE](ROOT (VP_h (SBAR (WHADVP (WRB_h 当)) (S (NP_h (NN_e contact)) (VP_e (VBZ_e goes)))) (VB_h 激活) (NP (NN_e notification))))\\n', '[CM]当 contact goes 激活 通知\\n', '[TREE](ROOT (VP_h (SBAR (WHADVP (WRB_h 当)) (S (NP_h (NN_e contact)) (VP_e (VBZ_e goes)))) (VB_h 激活) (NP (NN_h 通知))))\\n', '[CM]当 联系人 goes 激活 notification\\n', '[TREE](ROOT (VP_h (SBAR (WHADVP (WRB_h 当)) (S (NP_h (NN_h 联系人)) (VP_e (VBZ_e goes)))) (VB_h 激活) (NP (NN_e notification))))\\n', '[CM]当 联系人 goes 激活 通知\\n', '[TREE](ROOT (VP_h (SBAR (WHADVP (WRB_h 当)) (S (NP_h (NN_h 联系人)) (VP_e (VBZ_e goes)))) (VB_h 激活) (NP (NN_h 通知))))\\n', '[CM]Asthma is a serious disease that\\n', '[TREE](ROOT (S_e (NP (NN_e Asthma)) (VP (VBZ_e is) (NP_e (DT_e a) (JJ_e serious) (NN_e disease) (WHNP_e (WDT_e that))))))\\n', '[CM]Asthma is a 严重 disease that\\n', '[TREE](ROOT (S_e (NP (NN_e Asthma)) (VP (VBZ_e is) (NP_e (DT_e a) (JJ_h 严重) (NN_e disease) (WHNP_e (WDT_e that))))))\\n', '[CM]Asthma is 一种 影响 your 严重 disease\\n', '[TREE](ROOT (S_e (NP (NN_e Asthma)) (VP (VBZ_e is) (NP_e (DT_h 一种) (S (VP (VBZ_h 影响) (NP_e (PRP$_e your)))) (JJ_h 严重) (NN_e disease)))))\\n', '[CM]Asthma is 一种 影响 your 严重 疾病\\n', '[TREE](ROOT (S_e (NP (NN_e Asthma)) (VP (VBZ_e is) (NP_e (DT_h 一种) (S (VP (VBZ_h 影响) (NP_e (PRP$_e your)))) (JJ_h 严重) (NN_h 疾病)))))\\n', '[CM]Asthma is 一种 影响 呼吸道 serious disease\\n', '[TREE](ROOT (S_e (NP (NN_e Asthma)) (VP (VBZ_e is) (NP_e (DT_h 一种) (S (VP (VBZ_h 影响) (NP_h (NN+NNS_h 呼吸道)))) (JJ_e serious) (NN_e disease)))))\\n', '[CM]Asthma is 一种 影响 呼吸道 serious 疾病\\n', '[TREE](ROOT (S_e (NP (NN_e Asthma)) (VP (VBZ_e is) (NP_e (DT_h 一种) (S (VP (VBZ_h 影响) (NP_h (NN+NNS_h 呼吸道)))) (JJ_e serious) (NN_h 疾病)))))\\n', '[CM]Asthma 是 a serious disease that\\n', '[TREE](ROOT (S_e (NP (NN_e Asthma)) (VP (VBZ_h 是) (NP_e (DT_e a) (JJ_e serious) (NN_e disease) (WHNP_e (WDT_e that))))))\\n', '[CM]Asthma 是 a 严重 disease that\\n', '[TREE](ROOT (S_e (NP (NN_e Asthma)) (VP (VBZ_h 是) (NP_e (DT_e a) (JJ_h 严重) (NN_e disease) (WHNP_e (WDT_e that))))))\\n', '[CM]Asthma 是 一种 影响 your 严重 disease\\n', '[TREE](ROOT (S_e (NP (NN_e Asthma)) (VP (VBZ_h 是) (NP_e (DT_h 一种) (S (VP (VBZ_h 影响) (NP_e (PRP$_e your)))) (JJ_h 严重) (NN_e disease)))))\\n', '[CM]Asthma 是 一种 影响 your 严重 疾病\\n', '[TREE](ROOT (S_e (NP (NN_e Asthma)) (VP (VBZ_h 是) (NP_e (DT_h 一种) (S (VP (VBZ_h 影响) (NP_e (PRP$_e your)))) (JJ_h 严重) (NN_h 疾病)))))\\n', '[CM]Asthma 是 一种 影响 呼吸道 serious disease\\n', '[TREE](ROOT (S_e (NP (NN_e Asthma)) (VP (VBZ_h 是) (NP_e (DT_h 一种) (S (VP (VBZ_h 影响) (NP_h (NN+NNS_h 呼吸道)))) (JJ_e serious) (NN_e disease)))))\\n', '[CM]Asthma 是 一种 影响 呼吸道 serious 疾病\\n', '[TREE](ROOT (S_e (NP (NN_e Asthma)) (VP (VBZ_h 是) (NP_e (DT_h 一种) (S (VP (VBZ_h 影响) (NP_h (NN+NNS_h 呼吸道)))) (JJ_e serious) (NN_h 疾病)))))\\n', '[CM]哮喘 is a serious disease that\\n', '[TREE](ROOT (S_e (NP (NN_h 哮喘)) (VP (VBZ_e is) (NP_e (DT_e a) (JJ_e serious) (NN_e disease) (WHNP_e (WDT_e that))))))\\n', '[CM]哮喘 is a 严重 disease that\\n', '[TREE](ROOT (S_e (NP (NN_h 哮喘)) (VP (VBZ_e is) (NP_e (DT_e a) (JJ_h 严重) (NN_e disease) (WHNP_e (WDT_e that))))))\\n', '[CM]哮喘 is 一种 影响 your 严重 disease\\n', '[TREE](ROOT (S_e (NP (NN_h 哮喘)) (VP (VBZ_e is) (NP_e (DT_h 一种) (S (VP (VBZ_h 影响) (NP_e (PRP$_e your)))) (JJ_h 严重) (NN_e disease)))))\\n', '[CM]哮喘 is 一种 影响 your 严重 疾病\\n', '[TREE](ROOT (S_e (NP (NN_h 哮喘)) (VP (VBZ_e is) (NP_e (DT_h 一种) (S (VP (VBZ_h 影响) (NP_e (PRP$_e your)))) (JJ_h 严重) (NN_h 疾病)))))\\n', '[CM]哮喘 is 一种 影响 呼吸道 serious disease\\n', '[TREE](ROOT (S_e (NP (NN_h 哮喘)) (VP (VBZ_e is) (NP_e (DT_h 一种) (S (VP (VBZ_h 影响) (NP_h (NN+NNS_h 呼吸道)))) (JJ_e serious) (NN_e disease)))))\\n', '[CM]哮喘 is 一种 影响 呼吸道 serious 疾病\\n', '[TREE](ROOT (S_e (NP (NN_h 哮喘)) (VP (VBZ_e is) (NP_e (DT_h 一种) (S (VP (VBZ_h 影响) (NP_h (NN+NNS_h 呼吸道)))) (JJ_e serious) (NN_h 疾病)))))\\n', '[CM]哮喘 是 a serious disease that\\n', '[TREE](ROOT (S_e (NP (NN_h 哮喘)) (VP (VBZ_h 是) (NP_e (DT_e a) (JJ_e serious) (NN_e disease) (WHNP_e (WDT_e that))))))\\n', '[CM]哮喘 是 a 严重 disease that\\n', '[TREE](ROOT (S_e (NP (NN_h 哮喘)) (VP (VBZ_h 是) (NP_e (DT_e a) (JJ_h 严重) (NN_e disease) (WHNP_e (WDT_e that))))))\\n', '[CM]哮喘 是 一种 影响 your 严重 disease\\n', '[TREE](ROOT (S_e (NP (NN_h 哮喘)) (VP (VBZ_h 是) (NP_e (DT_h 一种) (S (VP (VBZ_h 影响) (NP_e (PRP$_e your)))) (JJ_h 严重) (NN_e disease)))))\\n', '[CM]哮喘 是 一种 影响 your 严重 疾病\\n', '[TREE](ROOT (S_e (NP (NN_h 哮喘)) (VP (VBZ_h 是) (NP_e (DT_h 一种) (S (VP (VBZ_h 影响) (NP_e (PRP$_e your)))) (JJ_h 严重) (NN_h 疾病)))))\\n', '[CM]哮喘 是 一种 影响 呼吸道 serious disease\\n', '[TREE](ROOT (S_e (NP (NN_h 哮喘)) (VP (VBZ_h 是) (NP_e (DT_h 一种) (S (VP (VBZ_h 影响) (NP_h (NN+NNS_h 呼吸道)))) (JJ_e serious) (NN_e disease)))))\\n', '[CM]哮喘 是 一种 影响 呼吸道 serious 疾病\\n', '[TREE](ROOT (S_e (NP (NN_h 哮喘)) (VP (VBZ_h 是) (NP_e (DT_h 一种) (S (VP (VBZ_h 影响) (NP_h (NN+NNS_h 呼吸道)))) (JJ_e serious) (NN_h 疾病)))))\\n', '[CM]这样 prescribed fee 将 be\\n', '[TREE](ROOT (S_e (PP_h (NP (DT_h 这样))) (NP_h (JJ_e prescribed) (NN_e fee)) (VP (MD_h 将) (VP_e (VB_e be)))))\\n', '[CM]这样 prescribed fee 将 sent\\n', '[TREE](ROOT (S_e (PP_h (NP (DT_h 这样))) (NP_h (JJ_e prescribed) (NN_e fee)) (VP (MD_h 将) (VP_h (VP (VBN_e sent))))))\\n', '[CM]这样 prescribed 费用 将 be\\n', '[TREE](ROOT (S_e (PP_h (NP (DT_h 这样))) (NP_h (JJ_e prescribed) (NN_h 费用)) (VP (MD_h 将) (VP_e (VB_e be)))))\\n', '[CM]这样 prescribed 费用 将 sent\\n', '[TREE](ROOT (S_e (PP_h (NP (DT_h 这样))) (NP_h (JJ_e prescribed) (NN_h 费用)) (VP (MD_h 将) (VP_h (VP (VBN_e sent))))))\\n', '[CM]It\\n', '[TREE](ROOT (S_e (NP (PRP_e It))))\\n', '[CM]可怕 because he 说出 such things\\n', '[TREE](ROOT (S_h (VP_h (ADJP_h (JJ_h 可怕)) (SBAR (IN_e because) (S (NP (PRP_e he)) (VP_h (VP (VB_h 说出) (NP (JJ+NNS_e such things)))))))))\\n', '[CM]可怕 because he 说出 这样的话\\n', '[TREE](ROOT (S_h (VP_h (ADJP_h (JJ_h 可怕)) (SBAR (IN_e because) (S (NP (PRP_e he)) (VP_h (VP (VB_h 说出) (NP (JJ+NNS_h 这样的话)))))))))\\n', '[CM]可怕 because 他会 say 这样的话\\n', '[TREE](ROOT (S_h (VP_h (ADJP_h (JJ_h 可怕)) (SBAR (IN_e because) (S (NP (PRP_h 他会)) (VP_h (VP (VB_e say) (NP (JJ+NNS_h 这样的话)))))))))\\n', '[CM]可怕 because 他会 would\\n', '[TREE](ROOT (S_h (VP_h (ADJP_h (JJ_h 可怕)) (SBAR (IN_e because) (S (NP (PRP_h 他会)) (VP_e (MD_e would)))))))\\n', '[CM]可怕 because 他会 说出 such things\\n', '[TREE](ROOT (S_h (VP_h (ADJP_h (JJ_h 可怕)) (SBAR (IN_e because) (S (NP (PRP_h 他会)) (VP_h (VP (VB_h 说出) (NP (JJ+NNS_e such things)))))))))\\n', '[CM]可怕 because 他会 说出 这样的话\\n', '[TREE](ROOT (S_h (VP_h (ADJP_h (JJ_h 可怕)) (SBAR (IN_e because) (S (NP (PRP_h 他会)) (VP_h (VP (VB_h 说出) (NP (JJ+NNS_h 这样的话)))))))))\\n', '[CM]day view 第二 timezone\\n', '[TREE](ROOT (NP_h (PP_h (NP_h (NN_e day) (NN_e view))) (NP_h (JJ_h 第二) (NN_e timezone))))\\n', '[CM]day view 第二 时 区\\n', '[TREE](ROOT (NP_h (PP_h (NP_h (NN_e day) (NN_e view))) (NP_h (JJ_h 第二) (NN_h 时 区))))\\n', '[CM]day 视图 second timezone\\n', '[TREE](ROOT (NP_h (PP_h (NP_h (NN_e day) (NN_h 视图))) (NP_h (JJ_e second) (NN_e timezone))))\\n', '[CM]day 视图 second 时 区\\n', '[TREE](ROOT (NP_h (PP_h (NP_h (NN_e day) (NN_h 视图))) (NP_h (JJ_e second) (NN_h 时 区))))\\n', '[CM]the 第二 for\\n', '[TREE](ROOT (NP_e (NP_e (DT_e the) (JJ_h 第二)) (PP_e (IN_e for))))\\n', '[CM]日 view 第二 timezone\\n', '[TREE](ROOT (NP_h (PP_h (NP_h (NN_h 日) (NN_e view))) (NP_h (JJ_h 第二) (NN_e timezone))))\\n', '[CM]日 view 第二 时 区\\n', '[TREE](ROOT (NP_h (PP_h (NP_h (NN_h 日) (NN_e view))) (NP_h (JJ_h 第二) (NN_h 时 区))))\\n', '[CM]日 视图 second timezone\\n', '[TREE](ROOT (NP_h (PP_h (NP_h (NN_h 日) (NN_h 视图))) (NP_h (JJ_e second) (NN_e timezone))))\\n', '[CM]日 视图 second 时 区\\n', '[TREE](ROOT (NP_h (PP_h (NP_h (NN_h 日) (NN_h 视图))) (NP_h (JJ_e second) (NN_h 时 区))))\\n', '[CM]There\\n', '[TREE](ROOT (S_e (NP_e (EX_e There))))\\n', '[CM]a large number 发展 urban 地区\\n', '[TREE](ROOT (S_e (NP_e (NP_e (DT_e a) (JJ_e large) (NN_e number))) (VP_h (VP_e (VBN_h 发展) (PP_h (NP (JJ_e urban) (NNS_h 地区)))))))\\n', '[CM]a large number 城市 地区 developed\\n', '[TREE](ROOT (S_e (NP_e (NP_e (DT_e a) (JJ_e large) (NN_e number))) (VP_h (VP_h (PP_h (NP (JJ_h 城市) (NNS_h 地区))) (VBN_e developed)))))\\n', '[CM]a large number 城市 地区 发展\\n', '[TREE](ROOT (S_e (NP_e (NP_e (DT_e a) (JJ_e large) (NN_e number))) (VP_h (VP_h (PP_h (NP (JJ_h 城市) (NNS_h 地区))) (VBN_h 发展)))))\\n', '[CM]garment and garment processing units have\\n', '[TREE](ROOT (S_e (NP_h (PP_h (NP (NN_e garment) (CC_e and) (NN_e garment) (NN_e processing) (NNS_e units)))) (VP_e (VBP_e have))))\\n', '[CM]garment and garment processing units 发展 urban 地区\\n', '[TREE](ROOT (S_e (NP_h (PP_h (NP (NN_e garment) (CC_e and) (NN_e garment) (NN_e processing) (NNS_e units)))) (VP_h (VP_e (VBN_h 发展) (PP_h (NP (JJ_e urban) (NNS_h 地区)))))))\\n', '[CM]garment and garment processing units 城市 地区 developed\\n', '[TREE](ROOT (S_e (NP_h (PP_h (NP (NN_e garment) (CC_e and) (NN_e garment) (NN_e processing) (NNS_e units)))) (VP_h (VP_h (PP_h (NP (JJ_h 城市) (NNS_h 地区))) (VBN_e developed)))))\\n', '[CM]garment and garment processing units 城市 地区 发展\\n', '[TREE](ROOT (S_e (NP_h (PP_h (NP (NN_e garment) (CC_e and) (NN_e garment) (NN_e processing) (NNS_e units)))) (VP_h (VP_h (PP_h (NP (JJ_h 城市) (NNS_h 地区))) (VBN_h 发展)))))\\n', '[CM]garment and garment processing 单位 have\\n', '[TREE](ROOT (S_e (NP_h (PP_h (NP (NN_e garment) (CC_e and) (NN_e garment) (NN_e processing) (NNS_h 单位)))) (VP_e (VBP_e have))))\\n', '[CM]garment and garment processing 单位 urban 地区 developed\\n', '[TREE](ROOT (S_e (NP_h (PP_h (NP (NN_e garment) (CC_e and) (NN_e garment) (NN_e processing) (NNS_h 单位)))) (VP_h (VP_h (PP_h (NP (JJ_e urban) (NNS_h 地区))) (VBN_e developed)))))\\n', '[CM]garment and garment processing 单位 urban 地区 发展\\n', '[TREE](ROOT (S_e (NP_h (PP_h (NP (NN_e garment) (CC_e and) (NN_e garment) (NN_e processing) (NNS_h 单位)))) (VP_h (VP_h (PP_h (NP (JJ_e urban) (NNS_h 地区))) (VBN_h 发展)))))\\n', '[CM]garment and garment 加工 units have\\n', '[TREE](ROOT (S_e (NP_h (PP_h (NP (NN_e garment) (CC_e and) (NN_e garment) (NN_h 加工) (NNS_e units)))) (VP_e (VBP_e have))))\\n', '[CM]garment and garment 加工 units 发展 urban 地区\\n', '[TREE](ROOT (S_e (NP_h (PP_h (NP (NN_e garment) (CC_e and) (NN_e garment) (NN_h 加工) (NNS_e units)))) (VP_h (VP_e (VBN_h 发展) (PP_h (NP (JJ_e urban) (NNS_h 地区)))))))\\n', '[CM]garment and garment 加工 units 城市 地区 developed\\n', '[TREE](ROOT (S_e (NP_h (PP_h (NP (NN_e garment) (CC_e and) (NN_e garment) (NN_h 加工) (NNS_e units)))) (VP_h (VP_h (PP_h (NP (JJ_h 城市) (NNS_h 地区))) (VBN_e developed)))))\\n', '[CM]garment and garment 加工 units 城市 地区 发展\\n', '[TREE](ROOT (S_e (NP_h (PP_h (NP (NN_e garment) (CC_e and) (NN_e garment) (NN_h 加工) (NNS_e units)))) (VP_h (VP_h (PP_h (NP (JJ_h 城市) (NNS_h 地区))) (VBN_h 发展)))))\\n', '[CM]garment and garment 加工 单位 have\\n', '[TREE](ROOT (S_e (NP_h (PP_h (NP (NN_e garment) (CC_e and) (NN_e garment) (NN_h 加工) (NNS_h 单位)))) (VP_e (VBP_e have))))\\n', '[CM]garment and garment 加工 单位 urban 地区 developed\\n', '[TREE](ROOT (S_e (NP_h (PP_h (NP (NN_e garment) (CC_e and) (NN_e garment) (NN_h 加工) (NNS_h 单位)))) (VP_h (VP_h (PP_h (NP (JJ_e urban) (NNS_h 地区))) (VBN_e developed)))))\\n', '[CM]garment and garment 加工 单位 urban 地区 发展\\n', '[TREE](ROOT (S_e (NP_h (PP_h (NP (NN_e garment) (CC_e and) (NN_e garment) (NN_h 加工) (NNS_h 单位)))) (VP_h (VP_h (PP_h (NP (JJ_e urban) (NNS_h 地区))) (VBN_h 发展)))))\\n', '[CM]garment and 服装 processing units have\\n', '[TREE](ROOT (S_e (NP_h (PP_h (NP (NN_e garment) (CC_e and) (NN_h 服装) (NN_e processing) (NNS_e units)))) (VP_e (VBP_e have))))\\n', '[CM]garment and 服装 processing units 发展 urban 地区\\n', '[TREE](ROOT (S_e (NP_h (PP_h (NP (NN_e garment) (CC_e and) (NN_h 服装) (NN_e processing) (NNS_e units)))) (VP_h (VP_e (VBN_h 发展) (PP_h (NP (JJ_e urban) (NNS_h 地区)))))))\\n', '[CM]garment and 服装 processing units 城市 地区 developed\\n', '[TREE](ROOT (S_e (NP_h (PP_h (NP (NN_e garment) (CC_e and) (NN_h 服装) (NN_e processing) (NNS_e units)))) (VP_h (VP_h (PP_h (NP (JJ_h 城市) (NNS_h 地区))) (VBN_e developed)))))\\n', '[CM]garment and 服装 processing units 城市 地区 发展\\n', '[TREE](ROOT (S_e (NP_h (PP_h (NP (NN_e garment) (CC_e and) (NN_h 服装) (NN_e processing) (NNS_e units)))) (VP_h (VP_h (PP_h (NP (JJ_h 城市) (NNS_h 地区))) (VBN_h 发展)))))\\n', '[CM]garment and 服装 processing 单位 have\\n', '[TREE](ROOT (S_e (NP_h (PP_h (NP (NN_e garment) (CC_e and) (NN_h 服装) (NN_e processing) (NNS_h 单位)))) (VP_e (VBP_e have))))\\n', '[CM]garment and 服装 processing 单位 urban 地区 developed\\n', '[TREE](ROOT (S_e (NP_h (PP_h (NP (NN_e garment) (CC_e and) (NN_h 服装) (NN_e processing) (NNS_h 单位)))) (VP_h (VP_h (PP_h (NP (JJ_e urban) (NNS_h 地区))) (VBN_e developed)))))\\n', '[CM]garment and 服装 processing 单位 urban 地区 发展\\n', '[TREE](ROOT (S_e (NP_h (PP_h (NP (NN_e garment) (CC_e and) (NN_h 服装) (NN_e processing) (NNS_h 单位)))) (VP_h (VP_h (PP_h (NP (JJ_e urban) (NNS_h 地区))) (VBN_h 发展)))))\\n', '[CM]garment and 服装 加工 units have\\n', '[TREE](ROOT (S_e (NP_h (PP_h (NP (NN_e garment) (CC_e and) (NN_h 服装) (NN_h 加工) (NNS_e units)))) (VP_e (VBP_e have))))\\n', '[CM]garment and 服装 加工 units 发展 urban 地区\\n', '[TREE](ROOT (S_e (NP_h (PP_h (NP (NN_e garment) (CC_e and) (NN_h 服装) (NN_h 加工) (NNS_e units)))) (VP_h (VP_e (VBN_h 发展) (PP_h (NP (JJ_e urban) (NNS_h 地区)))))))\\n', '[CM]garment and 服装 加工 units 城市 地区 developed\\n', '[TREE](ROOT (S_e (NP_h (PP_h (NP (NN_e garment) (CC_e and) (NN_h 服装) (NN_h 加工) (NNS_e units)))) (VP_h (VP_h (PP_h (NP (JJ_h 城市) (NNS_h 地区))) (VBN_e developed)))))\\n', '[CM]garment and 服装 加工 units 城市 地区 发展\\n', '[TREE](ROOT (S_e (NP_h (PP_h (NP (NN_e garment) (CC_e and) (NN_h 服装) (NN_h 加工) (NNS_e units)))) (VP_h (VP_h (PP_h (NP (JJ_h 城市) (NNS_h 地区))) (VBN_h 发展)))))\\n', '[CM]garment and 服装 加工 单位 have\\n', '[TREE](ROOT (S_e (NP_h (PP_h (NP (NN_e garment) (CC_e and) (NN_h 服装) (NN_h 加工) (NNS_h 单位)))) (VP_e (VBP_e have))))\\n', '[CM]garment and 服装 加工 单位 urban 地区 developed\\n', '[TREE](ROOT (S_e (NP_h (PP_h (NP (NN_e garment) (CC_e and) (NN_h 服装) (NN_h 加工) (NNS_h 单位)))) (VP_h (VP_h (PP_h (NP (JJ_e urban) (NNS_h 地区))) (VBN_e developed)))))\\n', '[CM]garment and 服装 加工 单位 urban 地区 发展\\n', '[TREE](ROOT (S_e (NP_h (PP_h (NP (NN_e garment) (CC_e and) (NN_h 服装) (NN_h 加工) (NNS_h 单位)))) (VP_h (VP_h (PP_h (NP (JJ_e urban) (NNS_h 地区))) (VBN_h 发展)))))\\n', '[CM]garment 及 garment processing units have\\n', '[TREE](ROOT (S_e (NP_h (PP_h (NP (NN_e garment) (CC_h 及) (NN_e garment) (NN_e processing) (NNS_e units)))) (VP_e (VBP_e have))))\\n', '[CM]garment 及 garment processing units 发展 urban 地区\\n', '[TREE](ROOT (S_e (NP_h (PP_h (NP (NN_e garment) (CC_h 及) (NN_e garment) (NN_e processing) (NNS_e units)))) (VP_h (VP_e (VBN_h 发展) (PP_h (NP (JJ_e urban) (NNS_h 地区)))))))\\n', '[CM]garment 及 garment processing units 城市 地区 developed\\n', '[TREE](ROOT (S_e (NP_h (PP_h (NP (NN_e garment) (CC_h 及) (NN_e garment) (NN_e processing) (NNS_e units)))) (VP_h (VP_h (PP_h (NP (JJ_h 城市) (NNS_h 地区))) (VBN_e developed)))))\\n', '[CM]garment 及 garment processing units 城市 地区 发展\\n', '[TREE](ROOT (S_e (NP_h (PP_h (NP (NN_e garment) (CC_h 及) (NN_e garment) (NN_e processing) (NNS_e units)))) (VP_h (VP_h (PP_h (NP (JJ_h 城市) (NNS_h 地区))) (VBN_h 发展)))))\\n', '[CM]garment 及 garment processing 单位 have\\n', '[TREE](ROOT (S_e (NP_h (PP_h (NP (NN_e garment) (CC_h 及) (NN_e garment) (NN_e processing) (NNS_h 单位)))) (VP_e (VBP_e have))))\\n', '[CM]garment 及 garment processing 单位 urban 地区 developed\\n', '[TREE](ROOT (S_e (NP_h (PP_h (NP (NN_e garment) (CC_h 及) (NN_e garment) (NN_e processing) (NNS_h 单位)))) (VP_h (VP_h (PP_h (NP (JJ_e urban) (NNS_h 地区))) (VBN_e developed)))))\\n', '[CM]garment 及 garment processing 单位 urban 地区 发展\\n', '[TREE](ROOT (S_e (NP_h (PP_h (NP (NN_e garment) (CC_h 及) (NN_e garment) (NN_e processing) (NNS_h 单位)))) (VP_h (VP_h (PP_h (NP (JJ_e urban) (NNS_h 地区))) (VBN_h 发展)))))\\n', '[CM]garment 及 garment 加工 units have\\n', '[TREE](ROOT (S_e (NP_h (PP_h (NP (NN_e garment) (CC_h 及) (NN_e garment) (NN_h 加工) (NNS_e units)))) (VP_e (VBP_e have))))\\n', '[CM]garment 及 garment 加工 units 发展 urban 地区\\n', '[TREE](ROOT (S_e (NP_h (PP_h (NP (NN_e garment) (CC_h 及) (NN_e garment) (NN_h 加工) (NNS_e units)))) (VP_h (VP_e (VBN_h 发展) (PP_h (NP (JJ_e urban) (NNS_h 地区)))))))\\n', '[CM]garment 及 garment 加工 units 城市 地区 developed\\n', '[TREE](ROOT (S_e (NP_h (PP_h (NP (NN_e garment) (CC_h 及) (NN_e garment) (NN_h 加工) (NNS_e units)))) (VP_h (VP_h (PP_h (NP (JJ_h 城市) (NNS_h 地区))) (VBN_e developed)))))\\n', '[CM]garment 及 garment 加工 units 城市 地区 发展\\n', '[TREE](ROOT (S_e (NP_h (PP_h (NP (NN_e garment) (CC_h 及) (NN_e garment) (NN_h 加工) (NNS_e units)))) (VP_h (VP_h (PP_h (NP (JJ_h 城市) (NNS_h 地区))) (VBN_h 发展)))))\\n', '[CM]garment 及 garment 加工 单位 have\\n', '[TREE](ROOT (S_e (NP_h (PP_h (NP (NN_e garment) (CC_h 及) (NN_e garment) (NN_h 加工) (NNS_h 单位)))) (VP_e (VBP_e have))))\\n', '[CM]garment 及 garment 加工 单位 urban 地区 developed\\n', '[TREE](ROOT (S_e (NP_h (PP_h (NP (NN_e garment) (CC_h 及) (NN_e garment) (NN_h 加工) (NNS_h 单位)))) (VP_h (VP_h (PP_h (NP (JJ_e urban) (NNS_h 地区))) (VBN_e developed)))))\\n', '[CM]garment 及 garment 加工 单位 urban 地区 发展\\n', '[TREE](ROOT (S_e (NP_h (PP_h (NP (NN_e garment) (CC_h 及) (NN_e garment) (NN_h 加工) (NNS_h 单位)))) (VP_h (VP_h (PP_h (NP (JJ_e urban) (NNS_h 地区))) (VBN_h 发展)))))\\n', '[CM]garment 及 服装 processing units have\\n', '[TREE](ROOT (S_e (NP_h (PP_h (NP (NN_e garment) (CC_h 及) (NN_h 服装) (NN_e processing) (NNS_e units)))) (VP_e (VBP_e have))))\\n', '[CM]garment 及 服装 processing units 发展 urban 地区\\n', '[TREE](ROOT (S_e (NP_h (PP_h (NP (NN_e garment) (CC_h 及) (NN_h 服装) (NN_e processing) (NNS_e units)))) (VP_h (VP_e (VBN_h 发展) (PP_h (NP (JJ_e urban) (NNS_h 地区)))))))\\n', '[CM]garment 及 服装 processing units 城市 地区 developed\\n', '[TREE](ROOT (S_e (NP_h (PP_h (NP (NN_e garment) (CC_h 及) (NN_h 服装) (NN_e processing) (NNS_e units)))) (VP_h (VP_h (PP_h (NP (JJ_h 城市) (NNS_h 地区))) (VBN_e developed)))))\\n', '[CM]garment 及 服装 processing units 城市 地区 发展\\n', '[TREE](ROOT (S_e (NP_h (PP_h (NP (NN_e garment) (CC_h 及) (NN_h 服装) (NN_e processing) (NNS_e units)))) (VP_h (VP_h (PP_h (NP (JJ_h 城市) (NNS_h 地区))) (VBN_h 发展)))))\\n', '[CM]garment 及 服装 processing 单位 have\\n', '[TREE](ROOT (S_e (NP_h (PP_h (NP (NN_e garment) (CC_h 及) (NN_h 服装) (NN_e processing) (NNS_h 单位)))) (VP_e (VBP_e have))))\\n', '[CM]garment 及 服装 processing 单位 urban 地区 developed\\n', '[TREE](ROOT (S_e (NP_h (PP_h (NP (NN_e garment) (CC_h 及) (NN_h 服装) (NN_e processing) (NNS_h 单位)))) (VP_h (VP_h (PP_h (NP (JJ_e urban) (NNS_h 地区))) (VBN_e developed)))))\\n', '[CM]garment 及 服装 processing 单位 urban 地区 发展\\n', '[TREE](ROOT (S_e (NP_h (PP_h (NP (NN_e garment) (CC_h 及) (NN_h 服装) (NN_e processing) (NNS_h 单位)))) (VP_h (VP_h (PP_h (NP (JJ_e urban) (NNS_h 地区))) (VBN_h 发展)))))\\n', '[CM]garment 及 服装 加工 units have\\n', '[TREE](ROOT (S_e (NP_h (PP_h (NP (NN_e garment) (CC_h 及) (NN_h 服装) (NN_h 加工) (NNS_e units)))) (VP_e (VBP_e have))))\\n', '[CM]garment 及 服装 加工 units 发展 urban 地区\\n', '[TREE](ROOT (S_e (NP_h (PP_h (NP (NN_e garment) (CC_h 及) (NN_h 服装) (NN_h 加工) (NNS_e units)))) (VP_h (VP_e (VBN_h 发展) (PP_h (NP (JJ_e urban) (NNS_h 地区)))))))\\n', '[CM]garment 及 服装 加工 units 城市 地区 developed\\n', '[TREE](ROOT (S_e (NP_h (PP_h (NP (NN_e garment) (CC_h 及) (NN_h 服装) (NN_h 加工) (NNS_e units)))) (VP_h (VP_h (PP_h (NP (JJ_h 城市) (NNS_h 地区))) (VBN_e developed)))))\\n', '[CM]garment 及 服装 加工 units 城市 地区 发展\\n', '[TREE](ROOT (S_e (NP_h (PP_h (NP (NN_e garment) (CC_h 及) (NN_h 服装) (NN_h 加工) (NNS_e units)))) (VP_h (VP_h (PP_h (NP (JJ_h 城市) (NNS_h 地区))) (VBN_h 发展)))))\\n', '[CM]garment 及 服装 加工 单位 have\\n', '[TREE](ROOT (S_e (NP_h (PP_h (NP (NN_e garment) (CC_h 及) (NN_h 服装) (NN_h 加工) (NNS_h 单位)))) (VP_e (VBP_e have))))\\n', '[CM]garment 及 服装 加工 单位 urban 地区 developed\\n', '[TREE](ROOT (S_e (NP_h (PP_h (NP (NN_e garment) (CC_h 及) (NN_h 服装) (NN_h 加工) (NNS_h 单位)))) (VP_h (VP_h (PP_h (NP (JJ_e urban) (NNS_h 地区))) (VBN_e developed)))))\\n', '[CM]garment 及 服装 加工 单位 urban 地区 发展\\n', '[TREE](ROOT (S_e (NP_h (PP_h (NP (NN_e garment) (CC_h 及) (NN_h 服装) (NN_h 加工) (NNS_h 单位)))) (VP_h (VP_h (PP_h (NP (JJ_e urban) (NNS_h 地区))) (VBN_h 发展)))))\\n', '[CM]urban 地区 developed 服装 and garment processing units\\n', '[TREE](ROOT (S_h (VP_h (VP_h (PP_h (NP (JJ_e urban) (NNS_h 地区))) (VBN_e developed))) (NP_h (PP_h (NP (NN_h 服装) (CC_e and) (NN_e garment) (NN_e processing) (NNS_e units))))))\\n', '[CM]urban 地区 developed 服装 and garment processing 单位\\n', '[TREE](ROOT (S_h (VP_h (VP_h (PP_h (NP (JJ_e urban) (NNS_h 地区))) (VBN_e developed))) (NP_h (PP_h (NP (NN_h 服装) (CC_e and) (NN_e garment) (NN_e processing) (NNS_h 单位))))))\\n', '[CM]urban 地区 developed 服装 and garment 加工 units\\n', '[TREE](ROOT (S_h (VP_h (VP_h (PP_h (NP (JJ_e urban) (NNS_h 地区))) (VBN_e developed))) (NP_h (PP_h (NP (NN_h 服装) (CC_e and) (NN_e garment) (NN_h 加工) (NNS_e units))))))\\n', '[CM]urban 地区 developed 服装 and garment 加工 单位\\n', '[TREE](ROOT (S_h (VP_h (VP_h (PP_h (NP (JJ_e urban) (NNS_h 地区))) (VBN_e developed))) (NP_h (PP_h (NP (NN_h 服装) (CC_e and) (NN_e garment) (NN_h 加工) (NNS_h 单位))))))\\n', '[CM]urban 地区 developed 服装 and 服装 processing units\\n', '[TREE](ROOT (S_h (VP_h (VP_h (PP_h (NP (JJ_e urban) (NNS_h 地区))) (VBN_e developed))) (NP_h (PP_h (NP (NN_h 服装) (CC_e and) (NN_h 服装) (NN_e processing) (NNS_e units))))))\\n', '[CM]urban 地区 developed 服装 and 服装 processing 单位\\n', '[TREE](ROOT (S_h (VP_h (VP_h (PP_h (NP (JJ_e urban) (NNS_h 地区))) (VBN_e developed))) (NP_h (PP_h (NP (NN_h 服装) (CC_e and) (NN_h 服装) (NN_e processing) (NNS_h 单位))))))\\n', '[CM]urban 地区 developed 服装 and 服装 加工 units\\n', '[TREE](ROOT (S_h (VP_h (VP_h (PP_h (NP (JJ_e urban) (NNS_h 地区))) (VBN_e developed))) (NP_h (PP_h (NP (NN_h 服装) (CC_e and) (NN_h 服装) (NN_h 加工) (NNS_e units))))))\\n', '[CM]urban 地区 developed 服装 and 服装 加工 单位\\n', '[TREE](ROOT (S_h (VP_h (VP_h (PP_h (NP (JJ_e urban) (NNS_h 地区))) (VBN_e developed))) (NP_h (PP_h (NP (NN_h 服装) (CC_e and) (NN_h 服装) (NN_h 加工) (NNS_h 单位))))))\\n', '[CM]urban 地区 developed 服装 及 garment processing units\\n', '[TREE](ROOT (S_h (VP_h (VP_h (PP_h (NP (JJ_e urban) (NNS_h 地区))) (VBN_e developed))) (NP_h (PP_h (NP (NN_h 服装) (CC_h 及) (NN_e garment) (NN_e processing) (NNS_e units))))))\\n', '[CM]urban 地区 developed 服装 及 garment processing 单位\\n', '[TREE](ROOT (S_h (VP_h (VP_h (PP_h (NP (JJ_e urban) (NNS_h 地区))) (VBN_e developed))) (NP_h (PP_h (NP (NN_h 服装) (CC_h 及) (NN_e garment) (NN_e processing) (NNS_h 单位))))))\\n', '[CM]urban 地区 developed 服装 及 garment 加工 units\\n', '[TREE](ROOT (S_h (VP_h (VP_h (PP_h (NP (JJ_e urban) (NNS_h 地区))) (VBN_e developed))) (NP_h (PP_h (NP (NN_h 服装) (CC_h 及) (NN_e garment) (NN_h 加工) (NNS_e units))))))\\n', '[CM]urban 地区 developed 服装 及 garment 加工 单位\\n', '[TREE](ROOT (S_h (VP_h (VP_h (PP_h (NP (JJ_e urban) (NNS_h 地区))) (VBN_e developed))) (NP_h (PP_h (NP (NN_h 服装) (CC_h 及) (NN_e garment) (NN_h 加工) (NNS_h 单位))))))\\n', '[CM]urban 地区 developed 服装 及 服装 processing units\\n', '[TREE](ROOT (S_h (VP_h (VP_h (PP_h (NP (JJ_e urban) (NNS_h 地区))) (VBN_e developed))) (NP_h (PP_h (NP (NN_h 服装) (CC_h 及) (NN_h 服装) (NN_e processing) (NNS_e units))))))\\n', '[CM]urban 地区 developed 服装 及 服装 processing 单位\\n', '[TREE](ROOT (S_h (VP_h (VP_h (PP_h (NP (JJ_e urban) (NNS_h 地区))) (VBN_e developed))) (NP_h (PP_h (NP (NN_h 服装) (CC_h 及) (NN_h 服装) (NN_e processing) (NNS_h 单位))))))\\n', '[CM]urban 地区 developed 服装 及 服装 加工 units\\n', '[TREE](ROOT (S_h (VP_h (VP_h (PP_h (NP (JJ_e urban) (NNS_h 地区))) (VBN_e developed))) (NP_h (PP_h (NP (NN_h 服装) (CC_h 及) (NN_h 服装) (NN_h 加工) (NNS_e units))))))\\n', '[CM]urban 地区 developed 服装 及 服装 加工 单位\\n', '[TREE](ROOT (S_h (VP_h (VP_h (PP_h (NP (JJ_e urban) (NNS_h 地区))) (VBN_e developed))) (NP_h (PP_h (NP (NN_h 服装) (CC_h 及) (NN_h 服装) (NN_h 加工) (NNS_h 单位))))))\\n', '[CM]urban 地区 发展 garment and garment processing units\\n', '[TREE](ROOT (S_h (VP_h (VP_h (PP_h (NP (JJ_e urban) (NNS_h 地区))) (VBN_h 发展))) (NP_h (PP_h (NP (NN_e garment) (CC_e and) (NN_e garment) (NN_e processing) (NNS_e units))))))\\n', '[CM]urban 地区 发展 garment and garment processing 单位\\n', '[TREE](ROOT (S_h (VP_h (VP_h (PP_h (NP (JJ_e urban) (NNS_h 地区))) (VBN_h 发展))) (NP_h (PP_h (NP (NN_e garment) (CC_e and) (NN_e garment) (NN_e processing) (NNS_h 单位))))))\\n', '[CM]urban 地区 发展 garment and garment 加工 units\\n', '[TREE](ROOT (S_h (VP_h (VP_h (PP_h (NP (JJ_e urban) (NNS_h 地区))) (VBN_h 发展))) (NP_h (PP_h (NP (NN_e garment) (CC_e and) (NN_e garment) (NN_h 加工) (NNS_e units))))))\\n', '[CM]urban 地区 发展 garment and garment 加工 单位\\n', '[TREE](ROOT (S_h (VP_h (VP_h (PP_h (NP (JJ_e urban) (NNS_h 地区))) (VBN_h 发展))) (NP_h (PP_h (NP (NN_e garment) (CC_e and) (NN_e garment) (NN_h 加工) (NNS_h 单位))))))\\n', '[CM]urban 地区 发展 garment and 服装 processing units\\n', '[TREE](ROOT (S_h (VP_h (VP_h (PP_h (NP (JJ_e urban) (NNS_h 地区))) (VBN_h 发展))) (NP_h (PP_h (NP (NN_e garment) (CC_e and) (NN_h 服装) (NN_e processing) (NNS_e units))))))\\n', '[CM]urban 地区 发展 garment and 服装 processing 单位\\n', '[TREE](ROOT (S_h (VP_h (VP_h (PP_h (NP (JJ_e urban) (NNS_h 地区))) (VBN_h 发展))) (NP_h (PP_h (NP (NN_e garment) (CC_e and) (NN_h 服装) (NN_e processing) (NNS_h 单位))))))\\n', '[CM]urban 地区 发展 garment and 服装 加工 units\\n', '[TREE](ROOT (S_h (VP_h (VP_h (PP_h (NP (JJ_e urban) (NNS_h 地区))) (VBN_h 发展))) (NP_h (PP_h (NP (NN_e garment) (CC_e and) (NN_h 服装) (NN_h 加工) (NNS_e units))))))\\n', '[CM]urban 地区 发展 garment and 服装 加工 单位\\n', '[TREE](ROOT (S_h (VP_h (VP_h (PP_h (NP (JJ_e urban) (NNS_h 地区))) (VBN_h 发展))) (NP_h (PP_h (NP (NN_e garment) (CC_e and) (NN_h 服装) (NN_h 加工) (NNS_h 单位))))))\\n', '[CM]urban 地区 发展 garment 及 garment processing units\\n', '[TREE](ROOT (S_h (VP_h (VP_h (PP_h (NP (JJ_e urban) (NNS_h 地区))) (VBN_h 发展))) (NP_h (PP_h (NP (NN_e garment) (CC_h 及) (NN_e garment) (NN_e processing) (NNS_e units))))))\\n', '[CM]urban 地区 发展 garment 及 garment processing 单位\\n', '[TREE](ROOT (S_h (VP_h (VP_h (PP_h (NP (JJ_e urban) (NNS_h 地区))) (VBN_h 发展))) (NP_h (PP_h (NP (NN_e garment) (CC_h 及) (NN_e garment) (NN_e processing) (NNS_h 单位))))))\\n', '[CM]urban 地区 发展 garment 及 garment 加工 units\\n', '[TREE](ROOT (S_h (VP_h (VP_h (PP_h (NP (JJ_e urban) (NNS_h 地区))) (VBN_h 发展))) (NP_h (PP_h (NP (NN_e garment) (CC_h 及) (NN_e garment) (NN_h 加工) (NNS_e units))))))\\n', '[CM]urban 地区 发展 garment 及 garment 加工 单位\\n', '[TREE](ROOT (S_h (VP_h (VP_h (PP_h (NP (JJ_e urban) (NNS_h 地区))) (VBN_h 发展))) (NP_h (PP_h (NP (NN_e garment) (CC_h 及) (NN_e garment) (NN_h 加工) (NNS_h 单位))))))\\n', '[CM]urban 地区 发展 garment 及 服装 processing units\\n', '[TREE](ROOT (S_h (VP_h (VP_h (PP_h (NP (JJ_e urban) (NNS_h 地区))) (VBN_h 发展))) (NP_h (PP_h (NP (NN_e garment) (CC_h 及) (NN_h 服装) (NN_e processing) (NNS_e units))))))\\n', '[CM]urban 地区 发展 garment 及 服装 processing 单位\\n', '[TREE](ROOT (S_h (VP_h (VP_h (PP_h (NP (JJ_e urban) (NNS_h 地区))) (VBN_h 发展))) (NP_h (PP_h (NP (NN_e garment) (CC_h 及) (NN_h 服装) (NN_e processing) (NNS_h 单位))))))\\n', '[CM]urban 地区 发展 garment 及 服装 加工 units\\n', '[TREE](ROOT (S_h (VP_h (VP_h (PP_h (NP (JJ_e urban) (NNS_h 地区))) (VBN_h 发展))) (NP_h (PP_h (NP (NN_e garment) (CC_h 及) (NN_h 服装) (NN_h 加工) (NNS_e units))))))\\n', '[CM]urban 地区 发展 garment 及 服装 加工 单位\\n', '[TREE](ROOT (S_h (VP_h (VP_h (PP_h (NP (JJ_e urban) (NNS_h 地区))) (VBN_h 发展))) (NP_h (PP_h (NP (NN_e garment) (CC_h 及) (NN_h 服装) (NN_h 加工) (NNS_h 单位))))))\\n', '[CM]发展 urban 地区 garment and garment processing units\\n', '[TREE](ROOT (S_h (VP_h (VP_e (VBN_h 发展) (PP_h (NP (JJ_e urban) (NNS_h 地区))))) (NP_h (PP_h (NP (NN_e garment) (CC_e and) (NN_e garment) (NN_e processing) (NNS_e units))))))\\n', '[CM]发展 urban 地区 garment and garment processing 单位\\n', '[TREE](ROOT (S_h (VP_h (VP_e (VBN_h 发展) (PP_h (NP (JJ_e urban) (NNS_h 地区))))) (NP_h (PP_h (NP (NN_e garment) (CC_e and) (NN_e garment) (NN_e processing) (NNS_h 单位))))))\\n', '[CM]发展 urban 地区 garment and garment 加工 units\\n', '[TREE](ROOT (S_h (VP_h (VP_e (VBN_h 发展) (PP_h (NP (JJ_e urban) (NNS_h 地区))))) (NP_h (PP_h (NP (NN_e garment) (CC_e and) (NN_e garment) (NN_h 加工) (NNS_e units))))))\\n', '[CM]发展 urban 地区 garment and garment 加工 单位\\n', '[TREE](ROOT (S_h (VP_h (VP_e (VBN_h 发展) (PP_h (NP (JJ_e urban) (NNS_h 地区))))) (NP_h (PP_h (NP (NN_e garment) (CC_e and) (NN_e garment) (NN_h 加工) (NNS_h 单位))))))\\n', '[CM]发展 urban 地区 garment and 服装 processing units\\n', '[TREE](ROOT (S_h (VP_h (VP_e (VBN_h 发展) (PP_h (NP (JJ_e urban) (NNS_h 地区))))) (NP_h (PP_h (NP (NN_e garment) (CC_e and) (NN_h 服装) (NN_e processing) (NNS_e units))))))\\n', '[CM]发展 urban 地区 garment and 服装 processing 单位\\n', '[TREE](ROOT (S_h (VP_h (VP_e (VBN_h 发展) (PP_h (NP (JJ_e urban) (NNS_h 地区))))) (NP_h (PP_h (NP (NN_e garment) (CC_e and) (NN_h 服装) (NN_e processing) (NNS_h 单位))))))\\n', '[CM]发展 urban 地区 garment and 服装 加工 units\\n', '[TREE](ROOT (S_h (VP_h (VP_e (VBN_h 发展) (PP_h (NP (JJ_e urban) (NNS_h 地区))))) (NP_h (PP_h (NP (NN_e garment) (CC_e and) (NN_h 服装) (NN_h 加工) (NNS_e units))))))\\n', '[CM]发展 urban 地区 garment and 服装 加工 单位\\n', '[TREE](ROOT (S_h (VP_h (VP_e (VBN_h 发展) (PP_h (NP (JJ_e urban) (NNS_h 地区))))) (NP_h (PP_h (NP (NN_e garment) (CC_e and) (NN_h 服装) (NN_h 加工) (NNS_h 单位))))))\\n', '[CM]发展 urban 地区 garment 及 garment processing units\\n', '[TREE](ROOT (S_h (VP_h (VP_e (VBN_h 发展) (PP_h (NP (JJ_e urban) (NNS_h 地区))))) (NP_h (PP_h (NP (NN_e garment) (CC_h 及) (NN_e garment) (NN_e processing) (NNS_e units))))))\\n', '[CM]发展 urban 地区 garment 及 garment processing 单位\\n', '[TREE](ROOT (S_h (VP_h (VP_e (VBN_h 发展) (PP_h (NP (JJ_e urban) (NNS_h 地区))))) (NP_h (PP_h (NP (NN_e garment) (CC_h 及) (NN_e garment) (NN_e processing) (NNS_h 单位))))))\\n', '[CM]发展 urban 地区 garment 及 garment 加工 units\\n', '[TREE](ROOT (S_h (VP_h (VP_e (VBN_h 发展) (PP_h (NP (JJ_e urban) (NNS_h 地区))))) (NP_h (PP_h (NP (NN_e garment) (CC_h 及) (NN_e garment) (NN_h 加工) (NNS_e units))))))\\n', '[CM]发展 urban 地区 garment 及 garment 加工 单位\\n', '[TREE](ROOT (S_h (VP_h (VP_e (VBN_h 发展) (PP_h (NP (JJ_e urban) (NNS_h 地区))))) (NP_h (PP_h (NP (NN_e garment) (CC_h 及) (NN_e garment) (NN_h 加工) (NNS_h 单位))))))\\n', '[CM]发展 urban 地区 garment 及 服装 processing units\\n', '[TREE](ROOT (S_h (VP_h (VP_e (VBN_h 发展) (PP_h (NP (JJ_e urban) (NNS_h 地区))))) (NP_h (PP_h (NP (NN_e garment) (CC_h 及) (NN_h 服装) (NN_e processing) (NNS_e units))))))\\n', '[CM]发展 urban 地区 garment 及 服装 processing 单位\\n', '[TREE](ROOT (S_h (VP_h (VP_e (VBN_h 发展) (PP_h (NP (JJ_e urban) (NNS_h 地区))))) (NP_h (PP_h (NP (NN_e garment) (CC_h 及) (NN_h 服装) (NN_e processing) (NNS_h 单位))))))\\n', '[CM]发展 urban 地区 garment 及 服装 加工 units\\n', '[TREE](ROOT (S_h (VP_h (VP_e (VBN_h 发展) (PP_h (NP (JJ_e urban) (NNS_h 地区))))) (NP_h (PP_h (NP (NN_e garment) (CC_h 及) (NN_h 服装) (NN_h 加工) (NNS_e units))))))\\n', '[CM]发展 urban 地区 garment 及 服装 加工 单位\\n', '[TREE](ROOT (S_h (VP_h (VP_e (VBN_h 发展) (PP_h (NP (JJ_e urban) (NNS_h 地区))))) (NP_h (PP_h (NP (NN_e garment) (CC_h 及) (NN_h 服装) (NN_h 加工) (NNS_h 单位))))))\\n', '[CM]城市 地区 developed 服装 and garment processing units\\n', '[TREE](ROOT (S_h (VP_h (VP_h (PP_h (NP (JJ_h 城市) (NNS_h 地区))) (VBN_e developed))) (NP_h (PP_h (NP (NN_h 服装) (CC_e and) (NN_e garment) (NN_e processing) (NNS_e units))))))\\n', '[CM]城市 地区 developed 服装 and garment processing 单位\\n', '[TREE](ROOT (S_h (VP_h (VP_h (PP_h (NP (JJ_h 城市) (NNS_h 地区))) (VBN_e developed))) (NP_h (PP_h (NP (NN_h 服装) (CC_e and) (NN_e garment) (NN_e processing) (NNS_h 单位))))))\\n', '[CM]城市 地区 developed 服装 and garment 加工 units\\n', '[TREE](ROOT (S_h (VP_h (VP_h (PP_h (NP (JJ_h 城市) (NNS_h 地区))) (VBN_e developed))) (NP_h (PP_h (NP (NN_h 服装) (CC_e and) (NN_e garment) (NN_h 加工) (NNS_e units))))))\\n', '[CM]城市 地区 developed 服装 and garment 加工 单位\\n', '[TREE](ROOT (S_h (VP_h (VP_h (PP_h (NP (JJ_h 城市) (NNS_h 地区))) (VBN_e developed))) (NP_h (PP_h (NP (NN_h 服装) (CC_e and) (NN_e garment) (NN_h 加工) (NNS_h 单位))))))\\n', '[CM]城市 地区 developed 服装 and 服装 processing units\\n', '[TREE](ROOT (S_h (VP_h (VP_h (PP_h (NP (JJ_h 城市) (NNS_h 地区))) (VBN_e developed))) (NP_h (PP_h (NP (NN_h 服装) (CC_e and) (NN_h 服装) (NN_e processing) (NNS_e units))))))\\n', '[CM]城市 地区 developed 服装 and 服装 processing 单位\\n', '[TREE](ROOT (S_h (VP_h (VP_h (PP_h (NP (JJ_h 城市) (NNS_h 地区))) (VBN_e developed))) (NP_h (PP_h (NP (NN_h 服装) (CC_e and) (NN_h 服装) (NN_e processing) (NNS_h 单位))))))\\n', '[CM]城市 地区 developed 服装 and 服装 加工 units\\n', '[TREE](ROOT (S_h (VP_h (VP_h (PP_h (NP (JJ_h 城市) (NNS_h 地区))) (VBN_e developed))) (NP_h (PP_h (NP (NN_h 服装) (CC_e and) (NN_h 服装) (NN_h 加工) (NNS_e units))))))\\n', '[CM]城市 地区 developed 服装 and 服装 加工 单位\\n', '[TREE](ROOT (S_h (VP_h (VP_h (PP_h (NP (JJ_h 城市) (NNS_h 地区))) (VBN_e developed))) (NP_h (PP_h (NP (NN_h 服装) (CC_e and) (NN_h 服装) (NN_h 加工) (NNS_h 单位))))))\\n', '[CM]城市 地区 developed 服装 及 garment processing units\\n', '[TREE](ROOT (S_h (VP_h (VP_h (PP_h (NP (JJ_h 城市) (NNS_h 地区))) (VBN_e developed))) (NP_h (PP_h (NP (NN_h 服装) (CC_h 及) (NN_e garment) (NN_e processing) (NNS_e units))))))\\n', '[CM]城市 地区 developed 服装 及 garment processing 单位\\n', '[TREE](ROOT (S_h (VP_h (VP_h (PP_h (NP (JJ_h 城市) (NNS_h 地区))) (VBN_e developed))) (NP_h (PP_h (NP (NN_h 服装) (CC_h 及) (NN_e garment) (NN_e processing) (NNS_h 单位))))))\\n', '[CM]城市 地区 developed 服装 及 garment 加工 units\\n', '[TREE](ROOT (S_h (VP_h (VP_h (PP_h (NP (JJ_h 城市) (NNS_h 地区))) (VBN_e developed))) (NP_h (PP_h (NP (NN_h 服装) (CC_h 及) (NN_e garment) (NN_h 加工) (NNS_e units))))))\\n', '[CM]城市 地区 developed 服装 及 garment 加工 单位\\n', '[TREE](ROOT (S_h (VP_h (VP_h (PP_h (NP (JJ_h 城市) (NNS_h 地区))) (VBN_e developed))) (NP_h (PP_h (NP (NN_h 服装) (CC_h 及) (NN_e garment) (NN_h 加工) (NNS_h 单位))))))\\n', '[CM]城市 地区 developed 服装 及 服装 processing units\\n', '[TREE](ROOT (S_h (VP_h (VP_h (PP_h (NP (JJ_h 城市) (NNS_h 地区))) (VBN_e developed))) (NP_h (PP_h (NP (NN_h 服装) (CC_h 及) (NN_h 服装) (NN_e processing) (NNS_e units))))))\\n', '[CM]城市 地区 developed 服装 及 服装 processing 单位\\n', '[TREE](ROOT (S_h (VP_h (VP_h (PP_h (NP (JJ_h 城市) (NNS_h 地区))) (VBN_e developed))) (NP_h (PP_h (NP (NN_h 服装) (CC_h 及) (NN_h 服装) (NN_e processing) (NNS_h 单位))))))\\n', '[CM]城市 地区 developed 服装 及 服装 加工 units\\n', '[TREE](ROOT (S_h (VP_h (VP_h (PP_h (NP (JJ_h 城市) (NNS_h 地区))) (VBN_e developed))) (NP_h (PP_h (NP (NN_h 服装) (CC_h 及) (NN_h 服装) (NN_h 加工) (NNS_e units))))))\\n', '[CM]城市 地区 developed 服装 及 服装 加工 单位\\n', '[TREE](ROOT (S_h (VP_h (VP_h (PP_h (NP (JJ_h 城市) (NNS_h 地区))) (VBN_e developed))) (NP_h (PP_h (NP (NN_h 服装) (CC_h 及) (NN_h 服装) (NN_h 加工) (NNS_h 单位))))))\\n', '[CM]城市 地区 发展 garment and garment processing units\\n', '[TREE](ROOT (S_h (VP_h (VP_h (PP_h (NP (JJ_h 城市) (NNS_h 地区))) (VBN_h 发展))) (NP_h (PP_h (NP (NN_e garment) (CC_e and) (NN_e garment) (NN_e processing) (NNS_e units))))))\\n', '[CM]城市 地区 发展 garment and garment processing 单位\\n', '[TREE](ROOT (S_h (VP_h (VP_h (PP_h (NP (JJ_h 城市) (NNS_h 地区))) (VBN_h 发展))) (NP_h (PP_h (NP (NN_e garment) (CC_e and) (NN_e garment) (NN_e processing) (NNS_h 单位))))))\\n', '[CM]城市 地区 发展 garment and garment 加工 units\\n', '[TREE](ROOT (S_h (VP_h (VP_h (PP_h (NP (JJ_h 城市) (NNS_h 地区))) (VBN_h 发展))) (NP_h (PP_h (NP (NN_e garment) (CC_e and) (NN_e garment) (NN_h 加工) (NNS_e units))))))\\n', '[CM]城市 地区 发展 garment and garment 加工 单位\\n', '[TREE](ROOT (S_h (VP_h (VP_h (PP_h (NP (JJ_h 城市) (NNS_h 地区))) (VBN_h 发展))) (NP_h (PP_h (NP (NN_e garment) (CC_e and) (NN_e garment) (NN_h 加工) (NNS_h 单位))))))\\n', '[CM]城市 地区 发展 garment and 服装 processing units\\n', '[TREE](ROOT (S_h (VP_h (VP_h (PP_h (NP (JJ_h 城市) (NNS_h 地区))) (VBN_h 发展))) (NP_h (PP_h (NP (NN_e garment) (CC_e and) (NN_h 服装) (NN_e processing) (NNS_e units))))))\\n', '[CM]城市 地区 发展 garment and 服装 processing 单位\\n', '[TREE](ROOT (S_h (VP_h (VP_h (PP_h (NP (JJ_h 城市) (NNS_h 地区))) (VBN_h 发展))) (NP_h (PP_h (NP (NN_e garment) (CC_e and) (NN_h 服装) (NN_e processing) (NNS_h 单位))))))\\n', '[CM]城市 地区 发展 garment and 服装 加工 units\\n', '[TREE](ROOT (S_h (VP_h (VP_h (PP_h (NP (JJ_h 城市) (NNS_h 地区))) (VBN_h 发展))) (NP_h (PP_h (NP (NN_e garment) (CC_e and) (NN_h 服装) (NN_h 加工) (NNS_e units))))))\\n', '[CM]城市 地区 发展 garment and 服装 加工 单位\\n', '[TREE](ROOT (S_h (VP_h (VP_h (PP_h (NP (JJ_h 城市) (NNS_h 地区))) (VBN_h 发展))) (NP_h (PP_h (NP (NN_e garment) (CC_e and) (NN_h 服装) (NN_h 加工) (NNS_h 单位))))))\\n', '[CM]城市 地区 发展 garment 及 garment processing units\\n', '[TREE](ROOT (S_h (VP_h (VP_h (PP_h (NP (JJ_h 城市) (NNS_h 地区))) (VBN_h 发展))) (NP_h (PP_h (NP (NN_e garment) (CC_h 及) (NN_e garment) (NN_e processing) (NNS_e units))))))\\n', '[CM]城市 地区 发展 garment 及 garment processing 单位\\n', '[TREE](ROOT (S_h (VP_h (VP_h (PP_h (NP (JJ_h 城市) (NNS_h 地区))) (VBN_h 发展))) (NP_h (PP_h (NP (NN_e garment) (CC_h 及) (NN_e garment) (NN_e processing) (NNS_h 单位))))))\\n', '[CM]城市 地区 发展 garment 及 garment 加工 units\\n', '[TREE](ROOT (S_h (VP_h (VP_h (PP_h (NP (JJ_h 城市) (NNS_h 地区))) (VBN_h 发展))) (NP_h (PP_h (NP (NN_e garment) (CC_h 及) (NN_e garment) (NN_h 加工) (NNS_e units))))))\\n', '[CM]城市 地区 发展 garment 及 garment 加工 单位\\n', '[TREE](ROOT (S_h (VP_h (VP_h (PP_h (NP (JJ_h 城市) (NNS_h 地区))) (VBN_h 发展))) (NP_h (PP_h (NP (NN_e garment) (CC_h 及) (NN_e garment) (NN_h 加工) (NNS_h 单位))))))\\n', '[CM]城市 地区 发展 garment 及 服装 processing units\\n', '[TREE](ROOT (S_h (VP_h (VP_h (PP_h (NP (JJ_h 城市) (NNS_h 地区))) (VBN_h 发展))) (NP_h (PP_h (NP (NN_e garment) (CC_h 及) (NN_h 服装) (NN_e processing) (NNS_e units))))))\\n', '[CM]城市 地区 发展 garment 及 服装 processing 单位\\n', '[TREE](ROOT (S_h (VP_h (VP_h (PP_h (NP (JJ_h 城市) (NNS_h 地区))) (VBN_h 发展))) (NP_h (PP_h (NP (NN_e garment) (CC_h 及) (NN_h 服装) (NN_e processing) (NNS_h 单位))))))\\n', '[CM]城市 地区 发展 garment 及 服装 加工 units\\n', '[TREE](ROOT (S_h (VP_h (VP_h (PP_h (NP (JJ_h 城市) (NNS_h 地区))) (VBN_h 发展))) (NP_h (PP_h (NP (NN_e garment) (CC_h 及) (NN_h 服装) (NN_h 加工) (NNS_e units))))))\\n', '[CM]城市 地区 发展 garment 及 服装 加工 单位\\n', '[TREE](ROOT (S_h (VP_h (VP_h (PP_h (NP (JJ_h 城市) (NNS_h 地区))) (VBN_h 发展))) (NP_h (PP_h (NP (NN_e garment) (CC_h 及) (NN_h 服装) (NN_h 加工) (NNS_h 单位))))))\\n', '[CM]服装 and garment processing units have\\n', '[TREE](ROOT (S_e (NP_h (PP_h (NP (NN_h 服装) (CC_e and) (NN_e garment) (NN_e processing) (NNS_e units)))) (VP_e (VBP_e have))))\\n', '[CM]服装 and garment processing units 发展 urban 地区\\n', '[TREE](ROOT (S_e (NP_h (PP_h (NP (NN_h 服装) (CC_e and) (NN_e garment) (NN_e processing) (NNS_e units)))) (VP_h (VP_e (VBN_h 发展) (PP_h (NP (JJ_e urban) (NNS_h 地区)))))))\\n', '[CM]服装 and garment processing units 城市 地区 developed\\n', '[TREE](ROOT (S_e (NP_h (PP_h (NP (NN_h 服装) (CC_e and) (NN_e garment) (NN_e processing) (NNS_e units)))) (VP_h (VP_h (PP_h (NP (JJ_h 城市) (NNS_h 地区))) (VBN_e developed)))))\\n', '[CM]服装 and garment processing units 城市 地区 发展\\n', '[TREE](ROOT (S_e (NP_h (PP_h (NP (NN_h 服装) (CC_e and) (NN_e garment) (NN_e processing) (NNS_e units)))) (VP_h (VP_h (PP_h (NP (JJ_h 城市) (NNS_h 地区))) (VBN_h 发展)))))\\n', '[CM]服装 and garment processing 单位 have\\n', '[TREE](ROOT (S_e (NP_h (PP_h (NP (NN_h 服装) (CC_e and) (NN_e garment) (NN_e processing) (NNS_h 单位)))) (VP_e (VBP_e have))))\\n', '[CM]服装 and garment processing 单位 urban 地区 developed\\n', '[TREE](ROOT (S_e (NP_h (PP_h (NP (NN_h 服装) (CC_e and) (NN_e garment) (NN_e processing) (NNS_h 单位)))) (VP_h (VP_h (PP_h (NP (JJ_e urban) (NNS_h 地区))) (VBN_e developed)))))\\n', '[CM]服装 and garment processing 单位 urban 地区 发展\\n', '[TREE](ROOT (S_e (NP_h (PP_h (NP (NN_h 服装) (CC_e and) (NN_e garment) (NN_e processing) (NNS_h 单位)))) (VP_h (VP_h (PP_h (NP (JJ_e urban) (NNS_h 地区))) (VBN_h 发展)))))\\n', '[CM]服装 and garment 加工 units have\\n', '[TREE](ROOT (S_e (NP_h (PP_h (NP (NN_h 服装) (CC_e and) (NN_e garment) (NN_h 加工) (NNS_e units)))) (VP_e (VBP_e have))))\\n', '[CM]服装 and garment 加工 units 发展 urban 地区\\n', '[TREE](ROOT (S_e (NP_h (PP_h (NP (NN_h 服装) (CC_e and) (NN_e garment) (NN_h 加工) (NNS_e units)))) (VP_h (VP_e (VBN_h 发展) (PP_h (NP (JJ_e urban) (NNS_h 地区)))))))\\n', '[CM]服装 and garment 加工 units 城市 地区 developed\\n', '[TREE](ROOT (S_e (NP_h (PP_h (NP (NN_h 服装) (CC_e and) (NN_e garment) (NN_h 加工) (NNS_e units)))) (VP_h (VP_h (PP_h (NP (JJ_h 城市) (NNS_h 地区))) (VBN_e developed)))))\\n', '[CM]服装 and garment 加工 units 城市 地区 发展\\n', '[TREE](ROOT (S_e (NP_h (PP_h (NP (NN_h 服装) (CC_e and) (NN_e garment) (NN_h 加工) (NNS_e units)))) (VP_h (VP_h (PP_h (NP (JJ_h 城市) (NNS_h 地区))) (VBN_h 发展)))))\\n', '[CM]服装 and garment 加工 单位 have\\n', '[TREE](ROOT (S_e (NP_h (PP_h (NP (NN_h 服装) (CC_e and) (NN_e garment) (NN_h 加工) (NNS_h 单位)))) (VP_e (VBP_e have))))\\n', '[CM]服装 and garment 加工 单位 urban 地区 developed\\n', '[TREE](ROOT (S_e (NP_h (PP_h (NP (NN_h 服装) (CC_e and) (NN_e garment) (NN_h 加工) (NNS_h 单位)))) (VP_h (VP_h (PP_h (NP (JJ_e urban) (NNS_h 地区))) (VBN_e developed)))))\\n', '[CM]服装 and garment 加工 单位 urban 地区 发展\\n', '[TREE](ROOT (S_e (NP_h (PP_h (NP (NN_h 服装) (CC_e and) (NN_e garment) (NN_h 加工) (NNS_h 单位)))) (VP_h (VP_h (PP_h (NP (JJ_e urban) (NNS_h 地区))) (VBN_h 发展)))))\\n', '[CM]服装 and 服装 processing units have\\n', '[TREE](ROOT (S_e (NP_h (PP_h (NP (NN_h 服装) (CC_e and) (NN_h 服装) (NN_e processing) (NNS_e units)))) (VP_e (VBP_e have))))\\n', '[CM]服装 and 服装 processing units 发展 urban 地区\\n', '[TREE](ROOT (S_e (NP_h (PP_h (NP (NN_h 服装) (CC_e and) (NN_h 服装) (NN_e processing) (NNS_e units)))) (VP_h (VP_e (VBN_h 发展) (PP_h (NP (JJ_e urban) (NNS_h 地区)))))))\\n', '[CM]服装 and 服装 processing units 城市 地区 developed\\n', '[TREE](ROOT (S_e (NP_h (PP_h (NP (NN_h 服装) (CC_e and) (NN_h 服装) (NN_e processing) (NNS_e units)))) (VP_h (VP_h (PP_h (NP (JJ_h 城市) (NNS_h 地区))) (VBN_e developed)))))\\n', '[CM]服装 and 服装 processing units 城市 地区 发展\\n', '[TREE](ROOT (S_e (NP_h (PP_h (NP (NN_h 服装) (CC_e and) (NN_h 服装) (NN_e processing) (NNS_e units)))) (VP_h (VP_h (PP_h (NP (JJ_h 城市) (NNS_h 地区))) (VBN_h 发展)))))\\n', '[CM]服装 and 服装 processing 单位 have\\n', '[TREE](ROOT (S_e (NP_h (PP_h (NP (NN_h 服装) (CC_e and) (NN_h 服装) (NN_e processing) (NNS_h 单位)))) (VP_e (VBP_e have))))\\n', '[CM]服装 and 服装 processing 单位 urban 地区 developed\\n', '[TREE](ROOT (S_e (NP_h (PP_h (NP (NN_h 服装) (CC_e and) (NN_h 服装) (NN_e processing) (NNS_h 单位)))) (VP_h (VP_h (PP_h (NP (JJ_e urban) (NNS_h 地区))) (VBN_e developed)))))\\n', '[CM]服装 and 服装 processing 单位 urban 地区 发展\\n', '[TREE](ROOT (S_e (NP_h (PP_h (NP (NN_h 服装) (CC_e and) (NN_h 服装) (NN_e processing) (NNS_h 单位)))) (VP_h (VP_h (PP_h (NP (JJ_e urban) (NNS_h 地区))) (VBN_h 发展)))))\\n', '[CM]服装 and 服装 加工 units have\\n', '[TREE](ROOT (S_e (NP_h (PP_h (NP (NN_h 服装) (CC_e and) (NN_h 服装) (NN_h 加工) (NNS_e units)))) (VP_e (VBP_e have))))\\n', '[CM]服装 and 服装 加工 units 发展 urban 地区\\n', '[TREE](ROOT (S_e (NP_h (PP_h (NP (NN_h 服装) (CC_e and) (NN_h 服装) (NN_h 加工) (NNS_e units)))) (VP_h (VP_e (VBN_h 发展) (PP_h (NP (JJ_e urban) (NNS_h 地区)))))))\\n', '[CM]服装 and 服装 加工 units 城市 地区 developed\\n', '[TREE](ROOT (S_e (NP_h (PP_h (NP (NN_h 服装) (CC_e and) (NN_h 服装) (NN_h 加工) (NNS_e units)))) (VP_h (VP_h (PP_h (NP (JJ_h 城市) (NNS_h 地区))) (VBN_e developed)))))\\n', '[CM]服装 and 服装 加工 units 城市 地区 发展\\n', '[TREE](ROOT (S_e (NP_h (PP_h (NP (NN_h 服装) (CC_e and) (NN_h 服装) (NN_h 加工) (NNS_e units)))) (VP_h (VP_h (PP_h (NP (JJ_h 城市) (NNS_h 地区))) (VBN_h 发展)))))\\n', '[CM]服装 and 服装 加工 单位 have\\n', '[TREE](ROOT (S_e (NP_h (PP_h (NP (NN_h 服装) (CC_e and) (NN_h 服装) (NN_h 加工) (NNS_h 单位)))) (VP_e (VBP_e have))))\\n', '[CM]服装 and 服装 加工 单位 urban 地区 developed\\n', '[TREE](ROOT (S_e (NP_h (PP_h (NP (NN_h 服装) (CC_e and) (NN_h 服装) (NN_h 加工) (NNS_h 单位)))) (VP_h (VP_h (PP_h (NP (JJ_e urban) (NNS_h 地区))) (VBN_e developed)))))\\n', '[CM]服装 and 服装 加工 单位 urban 地区 发展\\n', '[TREE](ROOT (S_e (NP_h (PP_h (NP (NN_h 服装) (CC_e and) (NN_h 服装) (NN_h 加工) (NNS_h 单位)))) (VP_h (VP_h (PP_h (NP (JJ_e urban) (NNS_h 地区))) (VBN_h 发展)))))\\n', '[CM]服装 及 garment processing units have\\n', '[TREE](ROOT (S_e (NP_h (PP_h (NP (NN_h 服装) (CC_h 及) (NN_e garment) (NN_e processing) (NNS_e units)))) (VP_e (VBP_e have))))\\n', '[CM]服装 及 garment processing units 发展 urban 地区\\n', '[TREE](ROOT (S_e (NP_h (PP_h (NP (NN_h 服装) (CC_h 及) (NN_e garment) (NN_e processing) (NNS_e units)))) (VP_h (VP_e (VBN_h 发展) (PP_h (NP (JJ_e urban) (NNS_h 地区)))))))\\n', '[CM]服装 及 garment processing units 城市 地区 developed\\n', '[TREE](ROOT (S_e (NP_h (PP_h (NP (NN_h 服装) (CC_h 及) (NN_e garment) (NN_e processing) (NNS_e units)))) (VP_h (VP_h (PP_h (NP (JJ_h 城市) (NNS_h 地区))) (VBN_e developed)))))\\n', '[CM]服装 及 garment processing units 城市 地区 发展\\n', '[TREE](ROOT (S_e (NP_h (PP_h (NP (NN_h 服装) (CC_h 及) (NN_e garment) (NN_e processing) (NNS_e units)))) (VP_h (VP_h (PP_h (NP (JJ_h 城市) (NNS_h 地区))) (VBN_h 发展)))))\\n', '[CM]服装 及 garment processing 单位 have\\n', '[TREE](ROOT (S_e (NP_h (PP_h (NP (NN_h 服装) (CC_h 及) (NN_e garment) (NN_e processing) (NNS_h 单位)))) (VP_e (VBP_e have))))\\n', '[CM]服装 及 garment processing 单位 urban 地区 developed\\n', '[TREE](ROOT (S_e (NP_h (PP_h (NP (NN_h 服装) (CC_h 及) (NN_e garment) (NN_e processing) (NNS_h 单位)))) (VP_h (VP_h (PP_h (NP (JJ_e urban) (NNS_h 地区))) (VBN_e developed)))))\\n', '[CM]服装 及 garment processing 单位 urban 地区 发展\\n', '[TREE](ROOT (S_e (NP_h (PP_h (NP (NN_h 服装) (CC_h 及) (NN_e garment) (NN_e processing) (NNS_h 单位)))) (VP_h (VP_h (PP_h (NP (JJ_e urban) (NNS_h 地区))) (VBN_h 发展)))))\\n', '[CM]服装 及 garment 加工 units have\\n', '[TREE](ROOT (S_e (NP_h (PP_h (NP (NN_h 服装) (CC_h 及) (NN_e garment) (NN_h 加工) (NNS_e units)))) (VP_e (VBP_e have))))\\n', '[CM]服装 及 garment 加工 units 发展 urban 地区\\n', '[TREE](ROOT (S_e (NP_h (PP_h (NP (NN_h 服装) (CC_h 及) (NN_e garment) (NN_h 加工) (NNS_e units)))) (VP_h (VP_e (VBN_h 发展) (PP_h (NP (JJ_e urban) (NNS_h 地区)))))))\\n', '[CM]服装 及 garment 加工 units 城市 地区 developed\\n', '[TREE](ROOT (S_e (NP_h (PP_h (NP (NN_h 服装) (CC_h 及) (NN_e garment) (NN_h 加工) (NNS_e units)))) (VP_h (VP_h (PP_h (NP (JJ_h 城市) (NNS_h 地区))) (VBN_e developed)))))\\n', '[CM]服装 及 garment 加工 units 城市 地区 发展\\n', '[TREE](ROOT (S_e (NP_h (PP_h (NP (NN_h 服装) (CC_h 及) (NN_e garment) (NN_h 加工) (NNS_e units)))) (VP_h (VP_h (PP_h (NP (JJ_h 城市) (NNS_h 地区))) (VBN_h 发展)))))\\n', '[CM]服装 及 garment 加工 单位 have\\n', '[TREE](ROOT (S_e (NP_h (PP_h (NP (NN_h 服装) (CC_h 及) (NN_e garment) (NN_h 加工) (NNS_h 单位)))) (VP_e (VBP_e have))))\\n', '[CM]服装 及 garment 加工 单位 urban 地区 developed\\n', '[TREE](ROOT (S_e (NP_h (PP_h (NP (NN_h 服装) (CC_h 及) (NN_e garment) (NN_h 加工) (NNS_h 单位)))) (VP_h (VP_h (PP_h (NP (JJ_e urban) (NNS_h 地区))) (VBN_e developed)))))\\n', '[CM]服装 及 garment 加工 单位 urban 地区 发展\\n', '[TREE](ROOT (S_e (NP_h (PP_h (NP (NN_h 服装) (CC_h 及) (NN_e garment) (NN_h 加工) (NNS_h 单位)))) (VP_h (VP_h (PP_h (NP (JJ_e urban) (NNS_h 地区))) (VBN_h 发展)))))\\n', '[CM]服装 及 服装 processing units have\\n', '[TREE](ROOT (S_e (NP_h (PP_h (NP (NN_h 服装) (CC_h 及) (NN_h 服装) (NN_e processing) (NNS_e units)))) (VP_e (VBP_e have))))\\n', '[CM]服装 及 服装 processing units 发展 urban 地区\\n', '[TREE](ROOT (S_e (NP_h (PP_h (NP (NN_h 服装) (CC_h 及) (NN_h 服装) (NN_e processing) (NNS_e units)))) (VP_h (VP_e (VBN_h 发展) (PP_h (NP (JJ_e urban) (NNS_h 地区)))))))\\n', '[CM]服装 及 服装 processing units 城市 地区 developed\\n', '[TREE](ROOT (S_e (NP_h (PP_h (NP (NN_h 服装) (CC_h 及) (NN_h 服装) (NN_e processing) (NNS_e units)))) (VP_h (VP_h (PP_h (NP (JJ_h 城市) (NNS_h 地区))) (VBN_e developed)))))\\n', '[CM]服装 及 服装 processing units 城市 地区 发展\\n', '[TREE](ROOT (S_e (NP_h (PP_h (NP (NN_h 服装) (CC_h 及) (NN_h 服装) (NN_e processing) (NNS_e units)))) (VP_h (VP_h (PP_h (NP (JJ_h 城市) (NNS_h 地区))) (VBN_h 发展)))))\\n', '[CM]服装 及 服装 processing 单位 have\\n', '[TREE](ROOT (S_e (NP_h (PP_h (NP (NN_h 服装) (CC_h 及) (NN_h 服装) (NN_e processing) (NNS_h 单位)))) (VP_e (VBP_e have))))\\n', '[CM]服装 及 服装 processing 单位 urban 地区 developed\\n', '[TREE](ROOT (S_e (NP_h (PP_h (NP (NN_h 服装) (CC_h 及) (NN_h 服装) (NN_e processing) (NNS_h 单位)))) (VP_h (VP_h (PP_h (NP (JJ_e urban) (NNS_h 地区))) (VBN_e developed)))))\\n', '[CM]服装 及 服装 processing 单位 urban 地区 发展\\n', '[TREE](ROOT (S_e (NP_h (PP_h (NP (NN_h 服装) (CC_h 及) (NN_h 服装) (NN_e processing) (NNS_h 单位)))) (VP_h (VP_h (PP_h (NP (JJ_e urban) (NNS_h 地区))) (VBN_h 发展)))))\\n', '[CM]服装 及 服装 加工 units have\\n', '[TREE](ROOT (S_e (NP_h (PP_h (NP (NN_h 服装) (CC_h 及) (NN_h 服装) (NN_h 加工) (NNS_e units)))) (VP_e (VBP_e have))))\\n', '[CM]服装 及 服装 加工 units 发展 urban 地区\\n', '[TREE](ROOT (S_e (NP_h (PP_h (NP (NN_h 服装) (CC_h 及) (NN_h 服装) (NN_h 加工) (NNS_e units)))) (VP_h (VP_e (VBN_h 发展) (PP_h (NP (JJ_e urban) (NNS_h 地区)))))))\\n', '[CM]服装 及 服装 加工 units 城市 地区 developed\\n', '[TREE](ROOT (S_e (NP_h (PP_h (NP (NN_h 服装) (CC_h 及) (NN_h 服装) (NN_h 加工) (NNS_e units)))) (VP_h (VP_h (PP_h (NP (JJ_h 城市) (NNS_h 地区))) (VBN_e developed)))))\\n', '[CM]服装 及 服装 加工 units 城市 地区 发展\\n', '[TREE](ROOT (S_e (NP_h (PP_h (NP (NN_h 服装) (CC_h 及) (NN_h 服装) (NN_h 加工) (NNS_e units)))) (VP_h (VP_h (PP_h (NP (JJ_h 城市) (NNS_h 地区))) (VBN_h 发展)))))\\n', '[CM]服装 及 服装 加工 单位 have\\n', '[TREE](ROOT (S_e (NP_h (PP_h (NP (NN_h 服装) (CC_h 及) (NN_h 服装) (NN_h 加工) (NNS_h 单位)))) (VP_e (VBP_e have))))\\n', '[CM]服装 及 服装 加工 单位 urban 地区 developed\\n', '[TREE](ROOT (S_e (NP_h (PP_h (NP (NN_h 服装) (CC_h 及) (NN_h 服装) (NN_h 加工) (NNS_h 单位)))) (VP_h (VP_h (PP_h (NP (JJ_e urban) (NNS_h 地区))) (VBN_e developed)))))\\n', '[CM]服装 及 服装 加工 单位 urban 地区 发展\\n', '[TREE](ROOT (S_e (NP_h (PP_h (NP (NN_h 服装) (CC_h 及) (NN_h 服装) (NN_h 加工) (NNS_h 单位)))) (VP_h (VP_h (PP_h (NP (JJ_e urban) (NNS_h 地区))) (VBN_h 发展)))))\\n']\n"
     ]
    }
   ],
   "source": [
    "print(gcm_benepar)"
   ]
  },
  {
   "cell_type": "code",
   "execution_count": 92,
   "id": "funny-pickup",
   "metadata": {},
   "outputs": [
    {
     "data": {
      "text/plain": [
       "['[TREE](ROOT (S_e (VP_e (VB_e contact) (NP (DT+NN_e the doctor)) (ADVP (RB_e immediately)) (SBAR (IN_e if) (S (NP (PRP_h 您)) (VP (VBP_e experience) (NP (DT_h 任何) (NN_h 不适))))))))\\n',\n",
       " '[CM]contact the doctor immediately 如果 you experience any discomfort\\n']"
      ]
     },
     "execution_count": 92,
     "metadata": {},
     "output_type": "execute_result"
    }
   ],
   "source": [
    "gcm_benepar[23:25]"
   ]
  },
  {
   "cell_type": "code",
   "execution_count": 93,
   "id": "challenging-grace",
   "metadata": {},
   "outputs": [
    {
     "name": "stdout",
     "output_type": "stream",
     "text": [
      "                                       ROOT                                   \n",
      "                                        |                                      \n",
      "                                       S_e                                    \n",
      "                                        |                                      \n",
      "                                       VP_e                                   \n",
      "    ____________________________________|_____________                         \n",
      "   |           |                |                    SBAR                     \n",
      "   |           |                |        _____________|_______                 \n",
      "   |           |                |       |                     S               \n",
      "   |           |                |       |      _______________|___             \n",
      "   |           |                |       |     |                   VP          \n",
      "   |           |                |       |     |        ___________|____        \n",
      "   |           NP              ADVP     |     NP      |                NP     \n",
      "   |           |                |       |     |       |            ____|___    \n",
      "  VB_e      DT+NN_e            RB_e    IN_e PRP_h   VBP_e        DT_h     NN_h\n",
      "   |      _____|______          |       |     |       |           |        |   \n",
      "contact the         doctor immediately  if    您   experience      任何       不适 \n",
      "\n"
     ]
    }
   ],
   "source": [
    "# visualising CM parse tree\n",
    "draw_tree(gcm_benepar[23:25][0].split('[TREE]')[1])"
   ]
  },
  {
   "cell_type": "markdown",
   "id": "vulnerable-wright",
   "metadata": {},
   "source": [
    "## Advanced Generation Options\n",
    "\n",
    "- We've kept the above Python interface simple for making it user-friendly.\n",
    "- There are many advanced features and tuning options that are available with the GCM toolkit, things like generating language tags for each output word, limiting the number of generated sentences or sampling techniques.\n",
    "- Each of these options can be selected in the 'CodeMixed-Text-Generator/config.ini' file.\n",
    "- Once you have made changes in the config, you can simply re-run this code and the GCM will pickup specific options from there.\n",
    "- Please read the documentation around **Batch Mode** to understand how config file works."
   ]
  },
  {
   "cell_type": "code",
   "execution_count": null,
   "id": "b6bff44c",
   "metadata": {},
   "outputs": [],
   "source": []
  }
 ],
 "metadata": {
  "kernelspec": {
   "display_name": "Python 3 (ipykernel)",
   "language": "python",
   "name": "python3"
  },
  "language_info": {
   "codemirror_mode": {
    "name": "ipython",
    "version": 3
   },
   "file_extension": ".py",
   "mimetype": "text/x-python",
   "name": "python",
   "nbconvert_exporter": "python",
   "pygments_lexer": "ipython3",
   "version": "3.7.7"
  }
 },
 "nbformat": 4,
 "nbformat_minor": 5
}
